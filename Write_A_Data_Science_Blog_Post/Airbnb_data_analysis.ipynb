{
 "cells": [
  {
   "cell_type": "markdown",
   "metadata": {},
   "source": [
    "# Understand Seattle Airbnb Data\n",
    "\n",
    "In this project, the Seattle airbnb data was taken for analysis with CRISP-DM process including:\n",
    "\n",
    "- Business understanding\n",
    "- Data understanding\n",
    "- Data preparation\n",
    "- Data modeling\n",
    "- Data evaluation\n",
    "- Deployment"
   ]
  },
  {
   "cell_type": "markdown",
   "metadata": {},
   "source": [
    "## **Data**\n",
    "\n",
    "Data in this project was downloaded from Udacity course 1 project and includes:\n",
    "\n",
    "- calendar.csv\n",
    "- listing.csv\n",
    "- review.csv"
   ]
  },
  {
   "cell_type": "markdown",
   "metadata": {},
   "source": [
    "## **Goal of the project**\n",
    "\n",
    "By analyzing the given dataset, I hope to answer three major questions:\n",
    "\n",
    "- What is the most expensive month to book accomodation in Seattle?\n",
    "- Does availability contribute to the price?\n",
    "- What contributes to a house listed with high price?"
   ]
  },
  {
   "cell_type": "markdown",
   "metadata": {},
   "source": [
    "## **Data understanding: A look at the data**\n",
    "\n",
    "In this section, I took a look at what each dataset consists of."
   ]
  },
  {
   "cell_type": "code",
   "execution_count": 4,
   "metadata": {},
   "outputs": [],
   "source": [
    "# Install necessary libraries and import dataset\n",
    "import numpy as np\n",
    "import pandas as pd\n",
    "import matplotlib.pyplot as plt\n",
    "from IPython import display\n",
    "import os\n",
    "import seaborn as sns\n",
    "%matplotlib inline\n",
    "\n",
    "filepath = os.getcwd()\n",
    "#df_calendar = pd.read_csv((filepath+'/calendar.csv'))\n",
    "df_calendar = pd.read_csv(('calendar.csv'))\n",
    "df_listings = pd.read_csv(filepath+'/listings.csv')\n",
    "df_reviews = pd.read_csv(filepath+'/reviews.csv')\n"
   ]
  },
  {
   "cell_type": "code",
   "execution_count": 2,
   "metadata": {},
   "outputs": [
    {
     "name": "stdout",
     "output_type": "stream",
     "text": [
      "<class 'pandas.core.frame.DataFrame'>\n",
      "RangeIndex: 1393570 entries, 0 to 1393569\n",
      "Data columns (total 4 columns):\n",
      " #   Column      Non-Null Count    Dtype \n",
      "---  ------      --------------    ----- \n",
      " 0   listing_id  1393570 non-null  int64 \n",
      " 1   date        1393570 non-null  object\n",
      " 2   available   1393570 non-null  object\n",
      " 3   price       934542 non-null   object\n",
      "dtypes: int64(1), object(3)\n",
      "memory usage: 42.5+ MB\n",
      "None\n",
      " \n",
      "<class 'pandas.core.frame.DataFrame'>\n",
      "RangeIndex: 3818 entries, 0 to 3817\n",
      "Data columns (total 92 columns):\n",
      " #   Column                            Non-Null Count  Dtype  \n",
      "---  ------                            --------------  -----  \n",
      " 0   id                                3818 non-null   int64  \n",
      " 1   listing_url                       3818 non-null   object \n",
      " 2   scrape_id                         3818 non-null   int64  \n",
      " 3   last_scraped                      3818 non-null   object \n",
      " 4   name                              3818 non-null   object \n",
      " 5   summary                           3641 non-null   object \n",
      " 6   space                             3249 non-null   object \n",
      " 7   description                       3818 non-null   object \n",
      " 8   experiences_offered               3818 non-null   object \n",
      " 9   neighborhood_overview             2786 non-null   object \n",
      " 10  notes                             2212 non-null   object \n",
      " 11  transit                           2884 non-null   object \n",
      " 12  thumbnail_url                     3498 non-null   object \n",
      " 13  medium_url                        3498 non-null   object \n",
      " 14  picture_url                       3818 non-null   object \n",
      " 15  xl_picture_url                    3498 non-null   object \n",
      " 16  host_id                           3818 non-null   int64  \n",
      " 17  host_url                          3818 non-null   object \n",
      " 18  host_name                         3816 non-null   object \n",
      " 19  host_since                        3816 non-null   object \n",
      " 20  host_location                     3810 non-null   object \n",
      " 21  host_about                        2959 non-null   object \n",
      " 22  host_response_time                3295 non-null   object \n",
      " 23  host_response_rate                3295 non-null   object \n",
      " 24  host_acceptance_rate              3045 non-null   object \n",
      " 25  host_is_superhost                 3816 non-null   object \n",
      " 26  host_thumbnail_url                3816 non-null   object \n",
      " 27  host_picture_url                  3816 non-null   object \n",
      " 28  host_neighbourhood                3518 non-null   object \n",
      " 29  host_listings_count               3816 non-null   float64\n",
      " 30  host_total_listings_count         3816 non-null   float64\n",
      " 31  host_verifications                3818 non-null   object \n",
      " 32  host_has_profile_pic              3816 non-null   object \n",
      " 33  host_identity_verified            3816 non-null   object \n",
      " 34  street                            3818 non-null   object \n",
      " 35  neighbourhood                     3402 non-null   object \n",
      " 36  neighbourhood_cleansed            3818 non-null   object \n",
      " 37  neighbourhood_group_cleansed      3818 non-null   object \n",
      " 38  city                              3818 non-null   object \n",
      " 39  state                             3818 non-null   object \n",
      " 40  zipcode                           3811 non-null   object \n",
      " 41  market                            3818 non-null   object \n",
      " 42  smart_location                    3818 non-null   object \n",
      " 43  country_code                      3818 non-null   object \n",
      " 44  country                           3818 non-null   object \n",
      " 45  latitude                          3818 non-null   float64\n",
      " 46  longitude                         3818 non-null   float64\n",
      " 47  is_location_exact                 3818 non-null   object \n",
      " 48  property_type                     3817 non-null   object \n",
      " 49  room_type                         3818 non-null   object \n",
      " 50  accommodates                      3818 non-null   int64  \n",
      " 51  bathrooms                         3802 non-null   float64\n",
      " 52  bedrooms                          3812 non-null   float64\n",
      " 53  beds                              3817 non-null   float64\n",
      " 54  bed_type                          3818 non-null   object \n",
      " 55  amenities                         3818 non-null   object \n",
      " 56  square_feet                       97 non-null     float64\n",
      " 57  price                             3818 non-null   object \n",
      " 58  weekly_price                      2009 non-null   object \n",
      " 59  monthly_price                     1517 non-null   object \n",
      " 60  security_deposit                  1866 non-null   object \n",
      " 61  cleaning_fee                      2788 non-null   object \n",
      " 62  guests_included                   3818 non-null   int64  \n",
      " 63  extra_people                      3818 non-null   object \n",
      " 64  minimum_nights                    3818 non-null   int64  \n",
      " 65  maximum_nights                    3818 non-null   int64  \n",
      " 66  calendar_updated                  3818 non-null   object \n",
      " 67  has_availability                  3818 non-null   object \n",
      " 68  availability_30                   3818 non-null   int64  \n",
      " 69  availability_60                   3818 non-null   int64  \n",
      " 70  availability_90                   3818 non-null   int64  \n",
      " 71  availability_365                  3818 non-null   int64  \n",
      " 72  calendar_last_scraped             3818 non-null   object \n",
      " 73  number_of_reviews                 3818 non-null   int64  \n",
      " 74  first_review                      3191 non-null   object \n",
      " 75  last_review                       3191 non-null   object \n",
      " 76  review_scores_rating              3171 non-null   float64\n",
      " 77  review_scores_accuracy            3160 non-null   float64\n",
      " 78  review_scores_cleanliness         3165 non-null   float64\n",
      " 79  review_scores_checkin             3160 non-null   float64\n",
      " 80  review_scores_communication       3167 non-null   float64\n",
      " 81  review_scores_location            3163 non-null   float64\n",
      " 82  review_scores_value               3162 non-null   float64\n",
      " 83  requires_license                  3818 non-null   object \n",
      " 84  license                           0 non-null      float64\n",
      " 85  jurisdiction_names                3818 non-null   object \n",
      " 86  instant_bookable                  3818 non-null   object \n",
      " 87  cancellation_policy               3818 non-null   object \n",
      " 88  require_guest_profile_picture     3818 non-null   object \n",
      " 89  require_guest_phone_verification  3818 non-null   object \n",
      " 90  calculated_host_listings_count    3818 non-null   int64  \n",
      " 91  reviews_per_month                 3191 non-null   float64\n",
      "dtypes: float64(17), int64(13), object(62)\n",
      "memory usage: 2.7+ MB\n",
      "None\n",
      " \n",
      "<class 'pandas.core.frame.DataFrame'>\n",
      "RangeIndex: 84849 entries, 0 to 84848\n",
      "Data columns (total 6 columns):\n",
      " #   Column         Non-Null Count  Dtype \n",
      "---  ------         --------------  ----- \n",
      " 0   listing_id     84849 non-null  int64 \n",
      " 1   id             84849 non-null  int64 \n",
      " 2   date           84849 non-null  object\n",
      " 3   reviewer_id    84849 non-null  int64 \n",
      " 4   reviewer_name  84849 non-null  object\n",
      " 5   comments       84831 non-null  object\n",
      "dtypes: int64(3), object(3)\n",
      "memory usage: 3.9+ MB\n",
      "None\n"
     ]
    }
   ],
   "source": [
    "# basic info\n",
    "print(df_calendar.info())\n",
    "print(' ')\n",
    "print(df_listings.info())\n",
    "print(' ')\n",
    "print(df_reviews.info())"
   ]
  },
  {
   "cell_type": "code",
   "execution_count": 3,
   "metadata": {},
   "outputs": [
    {
     "name": "stdout",
     "output_type": "stream",
     "text": [
      "In 'calendar.csv', {'available', 'listing_id', 'date'} have no missing values\n",
      "In 'listings.csv', {'calendar_updated', 'state', 'accommodates', 'calendar_last_scraped', 'bed_type', 'requires_license', 'description', 'city', 'room_type', 'street', 'scrape_id', 'availability_90', 'availability_365', 'require_guest_profile_picture', 'price', 'last_scraped', 'host_verifications', 'neighbourhood_group_cleansed', 'calculated_host_listings_count', 'smart_location', 'latitude', 'availability_60', 'id', 'guests_included', 'market', 'host_url', 'experiences_offered', 'longitude', 'minimum_nights', 'number_of_reviews', 'require_guest_phone_verification', 'instant_bookable', 'extra_people', 'picture_url', 'listing_url', 'host_id', 'neighbourhood_cleansed', 'availability_30', 'is_location_exact', 'has_availability', 'cancellation_policy', 'amenities', 'jurisdiction_names', 'country_code', 'maximum_nights', 'name', 'country'} have no missing values\n",
      "In 'reviews.csv', {'reviewer_name', 'listing_id', 'id', 'reviewer_id', 'date'} have no missing values\n"
     ]
    }
   ],
   "source": [
    "# number of columns with no missing values in each dataset\n",
    "calendar_no_nulls = set(df_calendar.columns[df_calendar.isnull().mean()==0])\n",
    "print(\"In 'calendar.csv', {} have no missing values\".format(calendar_no_nulls))\n",
    "\n",
    "listings_no_nulls = set(df_listings.columns[df_listings.isnull().mean()==0])\n",
    "print(\"In 'listings.csv', {} have no missing values\".format(listings_no_nulls))\n",
    "\n",
    "reviews_no_nulls = set(df_reviews.columns[df_reviews.isnull().mean()==0])\n",
    "print(\"In 'reviews.csv', {} have no missing values\".format(reviews_no_nulls))"
   ]
  },
  {
   "cell_type": "code",
   "execution_count": 46,
   "metadata": {},
   "outputs": [
    {
     "name": "stdout",
     "output_type": "stream",
     "text": [
      "In 'calendar.csv', set() have 75% or more missing values\n",
      "In 'listings.csv', {'license', 'square_feet'} have 75% or more missing values\n",
      "In 'reviews.csv', set() have 75% or more missing values\n"
     ]
    }
   ],
   "source": [
    "# Which columns have the most missing values\n",
    "cal_most_missing_cols = set(df_calendar.columns[df_calendar.isnull().mean() > 0.75])\n",
    "print(\"In 'calendar.csv', {} have 75% or more missing values\".format(cal_most_missing_cols))\n",
    "\n",
    "lis_most_missing_cols = set(df_listings.columns[df_listings.isnull().mean() > 0.75])\n",
    "print(\"In 'listings.csv', {} have 75% or more missing values\".format(lis_most_missing_cols))\n",
    "\n",
    "rev_most_missing_cols = set(df_reviews.columns[df_reviews.isnull().mean() > 0.75])\n",
    "print(\"In 'reviews.csv', {} have 75% or more missing values\".format(rev_most_missing_cols))"
   ]
  },
  {
   "cell_type": "markdown",
   "metadata": {},
   "source": [
    "In the following section, I am going to take a close look at each dataset separately. Let's start with the **calendar.csv**.\n",
    "\n",
    "From the info analysis above, we know that calendar.csv includes information such as listing_id (which can be used as an index to match the information in the other two datasets), date, availability and price. "
   ]
  },
  {
   "cell_type": "code",
   "execution_count": 5,
   "metadata": {},
   "outputs": [
    {
     "name": "stdout",
     "output_type": "stream",
     "text": [
      "   listing_id        date available   price\n",
      "0      241032  2016-01-04         t  $85.00\n",
      "1      241032  2016-01-05         t  $85.00\n",
      "2      241032  2016-01-06         f     NaN\n",
      "3      241032  2016-01-07         f     NaN\n",
      "4      241032  2016-01-08         f     NaN\n"
     ]
    },
    {
     "data": {
      "text/html": "<div>\n<style scoped>\n    .dataframe tbody tr th:only-of-type {\n        vertical-align: middle;\n    }\n\n    .dataframe tbody tr th {\n        vertical-align: top;\n    }\n\n    .dataframe thead th {\n        text-align: right;\n    }\n</style>\n<table border=\"1\" class=\"dataframe\">\n  <thead>\n    <tr style=\"text-align: right;\">\n      <th></th>\n      <th>listing_id</th>\n    </tr>\n  </thead>\n  <tbody>\n    <tr>\n      <th>count</th>\n      <td>1.393570e+06</td>\n    </tr>\n    <tr>\n      <th>mean</th>\n      <td>5.550111e+06</td>\n    </tr>\n    <tr>\n      <th>std</th>\n      <td>2.962274e+06</td>\n    </tr>\n    <tr>\n      <th>min</th>\n      <td>3.335000e+03</td>\n    </tr>\n    <tr>\n      <th>25%</th>\n      <td>3.258213e+06</td>\n    </tr>\n    <tr>\n      <th>50%</th>\n      <td>6.118244e+06</td>\n    </tr>\n    <tr>\n      <th>75%</th>\n      <td>8.035212e+06</td>\n    </tr>\n    <tr>\n      <th>max</th>\n      <td>1.034016e+07</td>\n    </tr>\n  </tbody>\n</table>\n</div>",
      "text/plain": "         listing_id\ncount  1.393570e+06\nmean   5.550111e+06\nstd    2.962274e+06\nmin    3.335000e+03\n25%    3.258213e+06\n50%    6.118244e+06\n75%    8.035212e+06\nmax    1.034016e+07"
     },
     "execution_count": 5,
     "metadata": {},
     "output_type": "execute_result"
    }
   ],
   "source": [
    "print(df_calendar.head())\n",
    "\n",
    "df_calendar.describe()"
   ]
  },
  {
   "cell_type": "markdown",
   "metadata": {},
   "source": [
    "Since date is time data, availability is boolean and price is string, only listing_id is described which is not very useful. For future analysis, we need to convert the string data in price into numerical data."
   ]
  },
  {
   "cell_type": "code",
   "execution_count": 21,
   "metadata": {},
   "outputs": [
    {
     "data": {
      "text/html": "<div>\n<style scoped>\n    .dataframe tbody tr th:only-of-type {\n        vertical-align: middle;\n    }\n\n    .dataframe tbody tr th {\n        vertical-align: top;\n    }\n\n    .dataframe thead th {\n        text-align: right;\n    }\n</style>\n<table border=\"1\" class=\"dataframe\">\n  <thead>\n    <tr style=\"text-align: right;\">\n      <th></th>\n      <th>listing_id</th>\n      <th>date</th>\n      <th>available</th>\n      <th>price</th>\n    </tr>\n  </thead>\n  <tbody>\n    <tr>\n      <th>0</th>\n      <td>241032</td>\n      <td>2016-01-04</td>\n      <td>t</td>\n      <td>85.0</td>\n    </tr>\n    <tr>\n      <th>1</th>\n      <td>241032</td>\n      <td>2016-01-05</td>\n      <td>t</td>\n      <td>85.0</td>\n    </tr>\n    <tr>\n      <th>2</th>\n      <td>241032</td>\n      <td>2016-01-06</td>\n      <td>f</td>\n      <td>NaN</td>\n    </tr>\n    <tr>\n      <th>3</th>\n      <td>241032</td>\n      <td>2016-01-07</td>\n      <td>f</td>\n      <td>NaN</td>\n    </tr>\n    <tr>\n      <th>4</th>\n      <td>241032</td>\n      <td>2016-01-08</td>\n      <td>f</td>\n      <td>NaN</td>\n    </tr>\n  </tbody>\n</table>\n</div>",
      "text/plain": "   listing_id        date available  price\n0      241032  2016-01-04         t   85.0\n1      241032  2016-01-05         t   85.0\n2      241032  2016-01-06         f    NaN\n3      241032  2016-01-07         f    NaN\n4      241032  2016-01-08         f    NaN"
     },
     "execution_count": 21,
     "metadata": {},
     "output_type": "execute_result"
    }
   ],
   "source": [
    "def convert_price_to_float(price):\n",
    "    \"\"\"\n",
    "    Remove $ sign and convert str to float\n",
    "    Input: string price\n",
    "    Ouput: float price\n",
    "    \"\"\"\n",
    "\n",
    "    try:\n",
    "        if ',' in price:\n",
    "            price = price.replace(',','')\n",
    "            price = price[1:]\n",
    "            return float(str(price))\n",
    "    except:\n",
    "        return price\n",
    "\n",
    "\n",
    "df_calendar['price'] = df_calendar['price'].apply(lambda x: convert_price_to_float(x))\n",
    "\n",
    "df_calendar.head()"
   ]
  },
  {
   "cell_type": "code",
   "execution_count": 26,
   "metadata": {},
   "outputs": [
    {
     "data": {
      "text/plain": "Text(0, 0.5, 'Count')"
     },
     "execution_count": 26,
     "metadata": {},
     "output_type": "execute_result"
    },
    {
     "data": {
      "image/png": "[encoded data removed]",
      "text/plain": "<Figure size 432x288 with 1 Axes>"
     },
     "metadata": {
      "needs_background": "light"
     },
     "output_type": "display_data"
    }
   ],
   "source": [
    "# check the price distribution\n",
    "df_calendar.price.hist();\n",
    "plt.title('Price distribution')\n",
    "plt.xlabel('Price per night')\n",
    "plt.ylabel('Count')"
   ]
  },
  {
   "cell_type": "code",
   "execution_count": 22,
   "metadata": {},
   "outputs": [
    {
     "data": {
      "text/html": "<div>\n<style scoped>\n    .dataframe tbody tr th:only-of-type {\n        vertical-align: middle;\n    }\n\n    .dataframe tbody tr th {\n        vertical-align: top;\n    }\n\n    .dataframe thead th {\n        text-align: right;\n    }\n</style>\n<table border=\"1\" class=\"dataframe\">\n  <thead>\n    <tr style=\"text-align: right;\">\n      <th></th>\n      <th>listing_id</th>\n      <th>price</th>\n    </tr>\n  </thead>\n  <tbody>\n    <tr>\n      <th>count</th>\n      <td>1.393570e+06</td>\n      <td>934542.000000</td>\n    </tr>\n    <tr>\n      <th>mean</th>\n      <td>5.550111e+06</td>\n      <td>137.199039</td>\n    </tr>\n    <tr>\n      <th>std</th>\n      <td>2.962274e+06</td>\n      <td>101.387024</td>\n    </tr>\n    <tr>\n      <th>min</th>\n      <td>3.335000e+03</td>\n      <td>0.000000</td>\n    </tr>\n    <tr>\n      <th>25%</th>\n      <td>3.258213e+06</td>\n      <td>75.000000</td>\n    </tr>\n    <tr>\n      <th>50%</th>\n      <td>6.118244e+06</td>\n      <td>109.000000</td>\n    </tr>\n    <tr>\n      <th>75%</th>\n      <td>8.035212e+06</td>\n      <td>160.000000</td>\n    </tr>\n    <tr>\n      <th>max</th>\n      <td>1.034016e+07</td>\n      <td>999.000000</td>\n    </tr>\n  </tbody>\n</table>\n</div>",
      "text/plain": "         listing_id          price\ncount  1.393570e+06  934542.000000\nmean   5.550111e+06     137.199039\nstd    2.962274e+06     101.387024\nmin    3.335000e+03       0.000000\n25%    3.258213e+06      75.000000\n50%    6.118244e+06     109.000000\n75%    8.035212e+06     160.000000\nmax    1.034016e+07     999.000000"
     },
     "execution_count": 22,
     "metadata": {},
     "output_type": "execute_result"
    }
   ],
   "source": [
    "df_calendar.describe()"
   ]
  },
  {
   "cell_type": "markdown",
   "metadata": {},
   "source": [
    "Now that the price data is cleaned, we know the basic statistics of listed house price. Let's move on the take a look at the listing data. Since there are too many columns, I started with numerical data and then categorical data."
   ]
  },
  {
   "cell_type": "code",
   "execution_count": 171,
   "metadata": {},
   "outputs": [
    {
     "name": "stdout",
     "output_type": "stream",
     "text": [
      "                 id     scrape_id       host_id  host_listings_count  \\\n",
      "count  3.818000e+03  3.818000e+03  3.818000e+03          3816.000000   \n",
      "mean   5.550111e+06  2.016010e+13  1.578556e+07             7.157757   \n",
      "std    2.962660e+06  0.000000e+00  1.458382e+07            28.628149   \n",
      "min    3.335000e+03  2.016010e+13  4.193000e+03             1.000000   \n",
      "25%    3.258256e+06  2.016010e+13  3.275204e+06             1.000000   \n",
      "50%    6.118244e+06  2.016010e+13  1.055814e+07             1.000000   \n",
      "75%    8.035127e+06  2.016010e+13  2.590309e+07             3.000000   \n",
      "max    1.034016e+07  2.016010e+13  5.320861e+07           502.000000   \n",
      "\n",
      "       host_total_listings_count     latitude    longitude  accommodates  \\\n",
      "count                3816.000000  3818.000000  3818.000000   3818.000000   \n",
      "mean                    7.157757    47.628961  -122.333103      3.349398   \n",
      "std                    28.628149     0.043052     0.031745      1.977599   \n",
      "min                     1.000000    47.505088  -122.417219      1.000000   \n",
      "25%                     1.000000    47.609418  -122.354320      2.000000   \n",
      "50%                     1.000000    47.623601  -122.328874      3.000000   \n",
      "75%                     3.000000    47.662694  -122.310800      4.000000   \n",
      "max                   502.000000    47.733358  -122.240607     16.000000   \n",
      "\n",
      "         bathrooms     bedrooms  ...  review_scores_rating  \\\n",
      "count  3802.000000  3812.000000  ...           3171.000000   \n",
      "mean      1.259469     1.307712  ...             94.539262   \n",
      "std       0.590369     0.883395  ...              6.606083   \n",
      "min       0.000000     0.000000  ...             20.000000   \n",
      "25%       1.000000     1.000000  ...             93.000000   \n",
      "50%       1.000000     1.000000  ...             96.000000   \n",
      "75%       1.000000     2.000000  ...             99.000000   \n",
      "max       8.000000     7.000000  ...            100.000000   \n",
      "\n",
      "       review_scores_accuracy  review_scores_cleanliness  \\\n",
      "count             3160.000000                3165.000000   \n",
      "mean                 9.636392                   9.556398   \n",
      "std                  0.698031                   0.797274   \n",
      "min                  2.000000                   3.000000   \n",
      "25%                  9.000000                   9.000000   \n",
      "50%                 10.000000                  10.000000   \n",
      "75%                 10.000000                  10.000000   \n",
      "max                 10.000000                  10.000000   \n",
      "\n",
      "       review_scores_checkin  review_scores_communication  \\\n",
      "count            3160.000000                  3167.000000   \n",
      "mean                9.786709                     9.809599   \n",
      "std                 0.595499                     0.568211   \n",
      "min                 2.000000                     2.000000   \n",
      "25%                10.000000                    10.000000   \n",
      "50%                10.000000                    10.000000   \n",
      "75%                10.000000                    10.000000   \n",
      "max                10.000000                    10.000000   \n",
      "\n",
      "       review_scores_location  review_scores_value  license  \\\n",
      "count             3163.000000          3162.000000      0.0   \n",
      "mean                 9.608916             9.452245      NaN   \n",
      "std                  0.629053             0.750259      NaN   \n",
      "min                  4.000000             2.000000      NaN   \n",
      "25%                  9.000000             9.000000      NaN   \n",
      "50%                 10.000000            10.000000      NaN   \n",
      "75%                 10.000000            10.000000      NaN   \n",
      "max                 10.000000            10.000000      NaN   \n",
      "\n",
      "       calculated_host_listings_count  reviews_per_month  \n",
      "count                     3818.000000        3191.000000  \n",
      "mean                         2.946307           2.078919  \n",
      "std                          5.893029           1.822348  \n",
      "min                          1.000000           0.020000  \n",
      "25%                          1.000000           0.695000  \n",
      "50%                          1.000000           1.540000  \n",
      "75%                          2.000000           3.000000  \n",
      "max                         37.000000          12.150000  \n",
      "\n",
      "[8 rows x 30 columns]\n",
      "There are 30 features\n"
     ]
    }
   ],
   "source": [
    "list_num = df_listings.select_dtypes(include=['int','float'])\n",
    "print(list_num.describe())\n",
    "print('There are {} features'.format(list_num.shape[1]))"
   ]
  },
  {
   "cell_type": "code",
   "execution_count": 27,
   "metadata": {},
   "outputs": [
    {
     "data": {
      "text/plain": "Text(0, 0.5, 'Counts')"
     },
     "execution_count": 27,
     "metadata": {},
     "output_type": "execute_result"
    },
    {
     "data": {
      "image/png": "[encoded data removed]",
      "text/plain": "<Figure size 432x288 with 1 Axes>"
     },
     "metadata": {
      "needs_background": "light"
     },
     "output_type": "display_data"
    }
   ],
   "source": [
    "list_num.number_of_reviews.hist();\n",
    "plt.title('Number of reviews distribution')\n",
    "plt.xlabel('Number of reviews')\n",
    "plt.ylabel('Counts')"
   ]
  },
  {
   "cell_type": "code",
   "execution_count": 170,
   "metadata": {},
   "outputs": [
    {
     "name": "stdout",
     "output_type": "stream",
     "text": [
      "There are 62 features that are categorical.\n"
     ]
    }
   ],
   "source": [
    "list_cat = df_listings.select_dtypes(include=['object'])\n",
    "print('There are {} features that are categorical.'.format(list_cat.shape[1]))"
   ]
  },
  {
   "cell_type": "code",
   "execution_count": 39,
   "metadata": {},
   "outputs": [
    {
     "data": {
      "text/plain": "Entire home/apt    2541\nPrivate room       1160\nShared room         117\nName: room_type, dtype: int64"
     },
     "execution_count": 39,
     "metadata": {},
     "output_type": "execute_result"
    }
   ],
   "source": [
    "room_type = list_cat.room_type.value_counts()\n",
    "room_type"
   ]
  },
  {
   "cell_type": "code",
   "execution_count": 43,
   "metadata": {},
   "outputs": [
    {
     "name": "stdout",
     "output_type": "stream",
     "text": [
      "There are 81 neighborhoods in the data.\n"
     ]
    }
   ],
   "source": [
    "neighbourhood = list_cat.neighbourhood.value_counts()\n",
    "print('There are {} neighborhoods in the data.'.format(neighbourhood.shape[0]))"
   ]
  },
  {
   "cell_type": "markdown",
   "metadata": {},
   "source": [
    "Something we learned from the data:\n",
    "\n",
    "- There are 30 numerical features and 62 categorical features in Listing. \n",
    "- There are more than 75% of data missing in 'license' and 'square_feet'.\n",
    "- Most of the prices in the calendar.csv are between 0-200 dollars per night.\n",
    "- Most of listing have less than 100 reviews.\n",
    "- Most of the listings are entire home/apartment and there are 81 neighborhoods.\n",
    "\n",
    "Features such as price, weekly_price, monthly_price, security_deposit, cleaning_fee are string instead of numerics that need to be converted. The values in 'price' in listings.csv are the same as that in calendar.csv. Now let's take a look at the **review data**."
   ]
  },
  {
   "cell_type": "code",
   "execution_count": 47,
   "metadata": {},
   "outputs": [
    {
     "data": {
      "text/html": "<div>\n<style scoped>\n    .dataframe tbody tr th:only-of-type {\n        vertical-align: middle;\n    }\n\n    .dataframe tbody tr th {\n        vertical-align: top;\n    }\n\n    .dataframe thead th {\n        text-align: right;\n    }\n</style>\n<table border=\"1\" class=\"dataframe\">\n  <thead>\n    <tr style=\"text-align: right;\">\n      <th></th>\n      <th>listing_id</th>\n      <th>id</th>\n      <th>date</th>\n      <th>reviewer_id</th>\n      <th>reviewer_name</th>\n      <th>comments</th>\n    </tr>\n  </thead>\n  <tbody>\n    <tr>\n      <th>0</th>\n      <td>7202016</td>\n      <td>38917982</td>\n      <td>2015-07-19</td>\n      <td>28943674</td>\n      <td>Bianca</td>\n      <td>Cute and cozy place. Perfect location to every...</td>\n    </tr>\n    <tr>\n      <th>1</th>\n      <td>7202016</td>\n      <td>39087409</td>\n      <td>2015-07-20</td>\n      <td>32440555</td>\n      <td>Frank</td>\n      <td>Kelly has a great room in a very central locat...</td>\n    </tr>\n    <tr>\n      <th>2</th>\n      <td>7202016</td>\n      <td>39820030</td>\n      <td>2015-07-26</td>\n      <td>37722850</td>\n      <td>Ian</td>\n      <td>Very spacious apartment, and in a great neighb...</td>\n    </tr>\n    <tr>\n      <th>3</th>\n      <td>7202016</td>\n      <td>40813543</td>\n      <td>2015-08-02</td>\n      <td>33671805</td>\n      <td>George</td>\n      <td>Close to Seattle Center and all it has to offe...</td>\n    </tr>\n    <tr>\n      <th>4</th>\n      <td>7202016</td>\n      <td>41986501</td>\n      <td>2015-08-10</td>\n      <td>34959538</td>\n      <td>Ming</td>\n      <td>Kelly was a great host and very accommodating ...</td>\n    </tr>\n  </tbody>\n</table>\n</div>",
      "text/plain": "   listing_id        id        date  reviewer_id reviewer_name  \\\n0     7202016  38917982  2015-07-19     28943674        Bianca   \n1     7202016  39087409  2015-07-20     32440555         Frank   \n2     7202016  39820030  2015-07-26     37722850           Ian   \n3     7202016  40813543  2015-08-02     33671805        George   \n4     7202016  41986501  2015-08-10     34959538          Ming   \n\n                                            comments  \n0  Cute and cozy place. Perfect location to every...  \n1  Kelly has a great room in a very central locat...  \n2  Very spacious apartment, and in a great neighb...  \n3  Close to Seattle Center and all it has to offe...  \n4  Kelly was a great host and very accommodating ...  "
     },
     "execution_count": 47,
     "metadata": {},
     "output_type": "execute_result"
    }
   ],
   "source": [
    "df_reviews.head()"
   ]
  },
  {
   "cell_type": "markdown",
   "metadata": {},
   "source": [
    "The reviews.csv contains six columns of listing ID, ID, date, reviewer ID, reviewer name and comments."
   ]
  },
  {
   "cell_type": "markdown",
   "metadata": {},
   "source": [
    "## **Data Preparation**\n",
    "\n",
    "In order to model and make prediction, we need to do the following:\n",
    "\n",
    "- decide on columns of interest and set up a dataframe consisting of the features of interest\n",
    "- convert price data into numeric data in listings.cvs (already done in previous section) and the date column from string to datetime in calendar.csv."
   ]
  },
  {
   "cell_type": "code",
   "execution_count": 51,
   "metadata": {},
   "outputs": [
    {
     "name": "stdout",
     "output_type": "stream",
     "text": [
      "<class 'pandas.core.frame.DataFrame'>\n",
      "RangeIndex: 1393570 entries, 0 to 1393569\n",
      "Data columns (total 4 columns):\n",
      " #   Column      Non-Null Count    Dtype         \n",
      "---  ------      --------------    -----         \n",
      " 0   listing_id  1393570 non-null  int64         \n",
      " 1   date        1393570 non-null  datetime64[ns]\n",
      " 2   available   1393570 non-null  object        \n",
      " 3   price       934542 non-null   float64       \n",
      "dtypes: datetime64[ns](1), float64(1), int64(1), object(1)\n",
      "memory usage: 42.5+ MB\n"
     ]
    }
   ],
   "source": [
    "df_calendar['date'] = pd.to_datetime(df_calendar['date'])\n",
    "df_calendar.info()"
   ]
  },
  {
   "cell_type": "markdown",
   "metadata": {},
   "source": [
    "Since we are predicting the price per night, rows with missing prices can be dropped."
   ]
  },
  {
   "cell_type": "code",
   "execution_count": 145,
   "metadata": {},
   "outputs": [
    {
     "data": {
      "text/plain": "0"
     },
     "execution_count": 145,
     "metadata": {},
     "output_type": "execute_result"
    }
   ],
   "source": [
    "df_cal_nonull = df_calendar.dropna(subset=['price'],axis=0)\n",
    "df_cal_nonull.price.isnull().sum()   # to make sure all NaN prices were dropped"
   ]
  },
  {
   "cell_type": "code",
   "execution_count": 146,
   "metadata": {},
   "outputs": [
    {
     "data": {
      "text/html": "<div>\n<style scoped>\n    .dataframe tbody tr th:only-of-type {\n        vertical-align: middle;\n    }\n\n    .dataframe tbody tr th {\n        vertical-align: top;\n    }\n\n    .dataframe thead th {\n        text-align: right;\n    }\n</style>\n<table border=\"1\" class=\"dataframe\">\n  <thead>\n    <tr style=\"text-align: right;\">\n      <th></th>\n      <th>listing_id</th>\n      <th>price</th>\n    </tr>\n  </thead>\n  <tbody>\n    <tr>\n      <th>count</th>\n      <td>9.345420e+05</td>\n      <td>934542.000000</td>\n    </tr>\n    <tr>\n      <th>mean</th>\n      <td>5.305517e+06</td>\n      <td>137.199039</td>\n    </tr>\n    <tr>\n      <th>std</th>\n      <td>2.974821e+06</td>\n      <td>101.387024</td>\n    </tr>\n    <tr>\n      <th>min</th>\n      <td>3.335000e+03</td>\n      <td>0.000000</td>\n    </tr>\n    <tr>\n      <th>25%</th>\n      <td>2.875975e+06</td>\n      <td>75.000000</td>\n    </tr>\n    <tr>\n      <th>50%</th>\n      <td>5.615620e+06</td>\n      <td>109.000000</td>\n    </tr>\n    <tr>\n      <th>75%</th>\n      <td>7.873345e+06</td>\n      <td>160.000000</td>\n    </tr>\n    <tr>\n      <th>max</th>\n      <td>1.034016e+07</td>\n      <td>999.000000</td>\n    </tr>\n  </tbody>\n</table>\n</div>",
      "text/plain": "         listing_id          price\ncount  9.345420e+05  934542.000000\nmean   5.305517e+06     137.199039\nstd    2.974821e+06     101.387024\nmin    3.335000e+03       0.000000\n25%    2.875975e+06      75.000000\n50%    5.615620e+06     109.000000\n75%    7.873345e+06     160.000000\nmax    1.034016e+07     999.000000"
     },
     "execution_count": 146,
     "metadata": {},
     "output_type": "execute_result"
    }
   ],
   "source": [
    "df_cal_nonull.describe()"
   ]
  },
  {
   "cell_type": "code",
   "execution_count": 147,
   "metadata": {},
   "outputs": [
    {
     "name": "stderr",
     "output_type": "stream",
     "text": [
      "ipykernel_launcher:3: SettingWithCopyWarning: \n",
      "A value is trying to be set on a copy of a slice from a DataFrame.\n",
      "Try using .loc[row_indexer,col_indexer] = value instead\n",
      "\n",
      "See the caveats in the documentation: https://pandas.pydata.org/pandas-docs/stable/user_guide/indexing.html#returning-a-view-versus-a-copy\n"
     ]
    },
    {
     "data": {
      "text/html": "<div>\n<style scoped>\n    .dataframe tbody tr th:only-of-type {\n        vertical-align: middle;\n    }\n\n    .dataframe tbody tr th {\n        vertical-align: top;\n    }\n\n    .dataframe thead th {\n        text-align: right;\n    }\n</style>\n<table border=\"1\" class=\"dataframe\">\n  <thead>\n    <tr style=\"text-align: right;\">\n      <th></th>\n      <th>listing_id</th>\n      <th>date</th>\n      <th>available</th>\n      <th>price</th>\n      <th>day</th>\n      <th>month</th>\n      <th>year</th>\n    </tr>\n  </thead>\n  <tbody>\n    <tr>\n      <th>0</th>\n      <td>241032</td>\n      <td>2016-01-04</td>\n      <td>t</td>\n      <td>85.0</td>\n      <td>4</td>\n      <td>1</td>\n      <td>2016</td>\n    </tr>\n    <tr>\n      <th>1</th>\n      <td>241032</td>\n      <td>2016-01-05</td>\n      <td>t</td>\n      <td>85.0</td>\n      <td>5</td>\n      <td>1</td>\n      <td>2016</td>\n    </tr>\n    <tr>\n      <th>9</th>\n      <td>241032</td>\n      <td>2016-01-13</td>\n      <td>t</td>\n      <td>85.0</td>\n      <td>13</td>\n      <td>1</td>\n      <td>2016</td>\n    </tr>\n    <tr>\n      <th>10</th>\n      <td>241032</td>\n      <td>2016-01-14</td>\n      <td>t</td>\n      <td>85.0</td>\n      <td>14</td>\n      <td>1</td>\n      <td>2016</td>\n    </tr>\n    <tr>\n      <th>14</th>\n      <td>241032</td>\n      <td>2016-01-18</td>\n      <td>t</td>\n      <td>85.0</td>\n      <td>18</td>\n      <td>1</td>\n      <td>2016</td>\n    </tr>\n  </tbody>\n</table>\n</div>",
      "text/plain": "    listing_id       date available  price  day  month  year\n0       241032 2016-01-04         t   85.0    4      1  2016\n1       241032 2016-01-05         t   85.0    5      1  2016\n9       241032 2016-01-13         t   85.0   13      1  2016\n10      241032 2016-01-14         t   85.0   14      1  2016\n14      241032 2016-01-18         t   85.0   18      1  2016"
     },
     "execution_count": 147,
     "metadata": {},
     "output_type": "execute_result"
    }
   ],
   "source": [
    "# Now let's add day, month and year to the dataframe as numerical values\n",
    "#df_cal_nonull = df_cal_nonull.drop('available',axis=1)\n",
    "df_cal_nonull['day'], df_cal_nonull['month'], df_cal_nonull['year'] = df_cal_nonull.date.dt.day, df_cal_nonull.date.dt.month, df_cal_nonull.date.dt.year\n",
    "#df_cal_nonull = df_cal_nonull.drop('date', axis=1)\n",
    "df_cal_nonull.head()"
   ]
  },
  {
   "cell_type": "markdown",
   "metadata": {},
   "source": [
    "### **Question 1: what is the most expensive month to book accomodation on Airbnb in Seattle?**"
   ]
  },
  {
   "cell_type": "code",
   "execution_count": 403,
   "metadata": {},
   "outputs": [
    {
     "data": {
      "text/plain": "Text(0, 0.5, 'Price')"
     },
     "execution_count": 403,
     "metadata": {},
     "output_type": "execute_result"
    },
    {
     "data": {
      "image/png": "[encoded data removed]",
      "text/plain": "<Figure size 720x360 with 1 Axes>"
     },
     "metadata": {
      "needs_background": "light"
     },
     "output_type": "display_data"
    }
   ],
   "source": [
    "# Let's compare the average price in each month\n",
    "price_avg_month = df_cal_nonull.groupby('month').mean()['price'].sort_values(ascending=False)\n",
    "price_avg_month.plot(kind='bar', figsize= [10,5], fontsize =12, legend=False);\n",
    "plt.title('Average monthly listing price per night')\n",
    "plt.xlabel('Month')\n",
    "plt.ylabel('Price')"
   ]
  },
  {
   "cell_type": "markdown",
   "metadata": {},
   "source": [
    "Conclusion:\n",
    "\n",
    "- We can see from the above table that the listing price is the highest in summer time, especially in July, August and June, followed by the month that before and after the summer season such as September and May. The listing price is lowest in the coldest season such as January and February.\n",
    "\n",
    "Now let's consider both calendar.csv and listing.csv to find out the factors that attribute to the price of the house.\n",
    "\n",
    "### **Questions 2: Does availability contribute to the price?**"
   ]
  },
  {
   "cell_type": "code",
   "execution_count": 149,
   "metadata": {},
   "outputs": [
    {
     "name": "stderr",
     "output_type": "stream",
     "text": [
      "ipykernel_launcher:2: SettingWithCopyWarning: \n",
      "A value is trying to be set on a copy of a slice from a DataFrame\n",
      "\n",
      "See the caveats in the documentation: https://pandas.pydata.org/pandas-docs/stable/user_guide/indexing.html#returning-a-view-versus-a-copy\n",
      "/Users/lijialing/opt/anaconda3/lib/python3.7/site-packages/pandas/core/generic.py:8767: SettingWithCopyWarning: \n",
      "A value is trying to be set on a copy of a slice from a DataFrame\n",
      "\n",
      "See the caveats in the documentation: https://pandas.pydata.org/pandas-docs/stable/user_guide/indexing.html#returning-a-view-versus-a-copy\n",
      "  self._update_inplace(new_data)\n",
      "ipykernel_launcher:3: SettingWithCopyWarning: \n",
      "A value is trying to be set on a copy of a slice from a DataFrame\n",
      "\n",
      "See the caveats in the documentation: https://pandas.pydata.org/pandas-docs/stable/user_guide/indexing.html#returning-a-view-versus-a-copy\n"
     ]
    },
    {
     "data": {
      "text/html": "<div>\n<style scoped>\n    .dataframe tbody tr th:only-of-type {\n        vertical-align: middle;\n    }\n\n    .dataframe tbody tr th {\n        vertical-align: top;\n    }\n\n    .dataframe thead th {\n        text-align: right;\n    }\n</style>\n<table border=\"1\" class=\"dataframe\">\n  <thead>\n    <tr style=\"text-align: right;\">\n      <th></th>\n      <th>listing_id</th>\n      <th>date</th>\n      <th>available</th>\n      <th>price</th>\n      <th>day</th>\n      <th>month</th>\n      <th>year</th>\n    </tr>\n  </thead>\n  <tbody>\n    <tr>\n      <th>0</th>\n      <td>241032</td>\n      <td>2016-01-04</td>\n      <td>1</td>\n      <td>85.0</td>\n      <td>4</td>\n      <td>1</td>\n      <td>2016</td>\n    </tr>\n    <tr>\n      <th>1</th>\n      <td>241032</td>\n      <td>2016-01-05</td>\n      <td>1</td>\n      <td>85.0</td>\n      <td>5</td>\n      <td>1</td>\n      <td>2016</td>\n    </tr>\n    <tr>\n      <th>9</th>\n      <td>241032</td>\n      <td>2016-01-13</td>\n      <td>1</td>\n      <td>85.0</td>\n      <td>13</td>\n      <td>1</td>\n      <td>2016</td>\n    </tr>\n    <tr>\n      <th>10</th>\n      <td>241032</td>\n      <td>2016-01-14</td>\n      <td>1</td>\n      <td>85.0</td>\n      <td>14</td>\n      <td>1</td>\n      <td>2016</td>\n    </tr>\n    <tr>\n      <th>14</th>\n      <td>241032</td>\n      <td>2016-01-18</td>\n      <td>1</td>\n      <td>85.0</td>\n      <td>18</td>\n      <td>1</td>\n      <td>2016</td>\n    </tr>\n  </tbody>\n</table>\n</div>",
      "text/plain": "    listing_id       date available  price  day  month  year\n0       241032 2016-01-04         1   85.0    4      1  2016\n1       241032 2016-01-05         1   85.0    5      1  2016\n9       241032 2016-01-13         1   85.0   13      1  2016\n10      241032 2016-01-14         1   85.0   14      1  2016\n14      241032 2016-01-18         1   85.0   18      1  2016"
     },
     "execution_count": 149,
     "metadata": {},
     "output_type": "execute_result"
    }
   ],
   "source": [
    "# first let's turn 'available' into boolean\n",
    "df_cal_nonull['available'][df_cal_nonull['available']=='t'] = 1\n",
    "df_cal_nonull['available'][df_cal_nonull['available']=='f'] = 0\n",
    "df_cal_nonull.head()"
   ]
  },
  {
   "cell_type": "code",
   "execution_count": 154,
   "metadata": {},
   "outputs": [],
   "source": [
    "# Let's compare the trend of availability and price for each month.\n",
    "avail_per_day = df_cal_nonull.groupby('date').count()\n",
    "avail_per_day = avail_per_day['available']\n",
    "daily_price = df_cal_nonull.groupby('date').mean()['price']\n"
   ]
  },
  {
   "cell_type": "code",
   "execution_count": 160,
   "metadata": {},
   "outputs": [
    {
     "data": {
      "text/plain": "Text(0.5, 1.0, 'Price vs. availability')"
     },
     "execution_count": 160,
     "metadata": {},
     "output_type": "execute_result"
    },
    {
     "data": {
      "image/png": "[encoded data removed]",
      "text/plain": "<Figure size 1080x432 with 2 Axes>"
     },
     "metadata": {
      "needs_background": "light"
     },
     "output_type": "display_data"
    }
   ],
   "source": [
    "# plot\n",
    "f, ax = plt.subplots(figsize=(15,6))\n",
    "plot1 = sns.lineplot(x = avail_per_day.index, y = avail_per_day, color='r')\n",
    "\n",
    "ax2 = ax.twinx()\n",
    "plot2 = sns.lineplot(x = daily_price.index, y = daily_price, color='b')\n",
    "\n",
    "ax.set_title('Price vs. availability')"
   ]
  },
  {
   "cell_type": "markdown",
   "metadata": {},
   "source": [
    "Conclusion:\n",
    "\n",
    "- The red line corresponds to the availability while the blue line corresponds to the price. The availability is roughly separated into three seasons: one between 01/2016-04/2016 when the availability increases over time; one between 04/2016-07/2016 when the availability stays unchanged; one between 07/2016-01/2017 when the availability increases again.\n",
    "- Roughly after 07/2016, the price and availability are anticorrelated meaning that the price goes down with the increasing availability. Interestingly, the price and availability before 04/2016 seem to increase together."
   ]
  },
  {
   "cell_type": "markdown",
   "metadata": {},
   "source": [
    "### **Question 3: What contributes to a house listed with high price?**\n",
    "\n",
    "In order to use the data to build model, we need to:\n",
    "\n",
    "- Clean useless and redundant columns, remove columns with more than 75% missing values\n",
    "- Impute missing values in columns that contain less than 75% missing values\n",
    "- Create dummy values/encode for categorical columns\n",
    "\n",
    "**First let's remove columns with more than 75% missing values, wichi is 'licence' and 'square_feet'.**"
   ]
  },
  {
   "cell_type": "code",
   "execution_count": 168,
   "metadata": {},
   "outputs": [
    {
     "name": "stdout",
     "output_type": "stream",
     "text": [
      "<class 'pandas.core.frame.DataFrame'>\n",
      "RangeIndex: 3818 entries, 0 to 3817\n",
      "Data columns (total 90 columns):\n",
      " #   Column                            Non-Null Count  Dtype  \n",
      "---  ------                            --------------  -----  \n",
      " 0   id                                3818 non-null   int64  \n",
      " 1   listing_url                       3818 non-null   object \n",
      " 2   scrape_id                         3818 non-null   int64  \n",
      " 3   last_scraped                      3818 non-null   object \n",
      " 4   name                              3818 non-null   object \n",
      " 5   summary                           3641 non-null   object \n",
      " 6   space                             3249 non-null   object \n",
      " 7   description                       3818 non-null   object \n",
      " 8   experiences_offered               3818 non-null   object \n",
      " 9   neighborhood_overview             2786 non-null   object \n",
      " 10  notes                             2212 non-null   object \n",
      " 11  transit                           2884 non-null   object \n",
      " 12  thumbnail_url                     3498 non-null   object \n",
      " 13  medium_url                        3498 non-null   object \n",
      " 14  picture_url                       3818 non-null   object \n",
      " 15  xl_picture_url                    3498 non-null   object \n",
      " 16  host_id                           3818 non-null   int64  \n",
      " 17  host_url                          3818 non-null   object \n",
      " 18  host_name                         3816 non-null   object \n",
      " 19  host_since                        3816 non-null   object \n",
      " 20  host_location                     3810 non-null   object \n",
      " 21  host_about                        2959 non-null   object \n",
      " 22  host_response_time                3295 non-null   object \n",
      " 23  host_response_rate                3295 non-null   object \n",
      " 24  host_acceptance_rate              3045 non-null   object \n",
      " 25  host_is_superhost                 3816 non-null   object \n",
      " 26  host_thumbnail_url                3816 non-null   object \n",
      " 27  host_picture_url                  3816 non-null   object \n",
      " 28  host_neighbourhood                3518 non-null   object \n",
      " 29  host_listings_count               3816 non-null   float64\n",
      " 30  host_total_listings_count         3816 non-null   float64\n",
      " 31  host_verifications                3818 non-null   object \n",
      " 32  host_has_profile_pic              3816 non-null   object \n",
      " 33  host_identity_verified            3816 non-null   object \n",
      " 34  street                            3818 non-null   object \n",
      " 35  neighbourhood                     3402 non-null   object \n",
      " 36  neighbourhood_cleansed            3818 non-null   object \n",
      " 37  neighbourhood_group_cleansed      3818 non-null   object \n",
      " 38  city                              3818 non-null   object \n",
      " 39  state                             3818 non-null   object \n",
      " 40  zipcode                           3811 non-null   object \n",
      " 41  market                            3818 non-null   object \n",
      " 42  smart_location                    3818 non-null   object \n",
      " 43  country_code                      3818 non-null   object \n",
      " 44  country                           3818 non-null   object \n",
      " 45  latitude                          3818 non-null   float64\n",
      " 46  longitude                         3818 non-null   float64\n",
      " 47  is_location_exact                 3818 non-null   object \n",
      " 48  property_type                     3817 non-null   object \n",
      " 49  room_type                         3818 non-null   object \n",
      " 50  accommodates                      3818 non-null   int64  \n",
      " 51  bathrooms                         3802 non-null   float64\n",
      " 52  bedrooms                          3812 non-null   float64\n",
      " 53  beds                              3817 non-null   float64\n",
      " 54  bed_type                          3818 non-null   object \n",
      " 55  amenities                         3818 non-null   object \n",
      " 56  price                             3818 non-null   object \n",
      " 57  weekly_price                      2009 non-null   object \n",
      " 58  monthly_price                     1517 non-null   object \n",
      " 59  security_deposit                  1866 non-null   object \n",
      " 60  cleaning_fee                      2788 non-null   object \n",
      " 61  guests_included                   3818 non-null   int64  \n",
      " 62  extra_people                      3818 non-null   object \n",
      " 63  minimum_nights                    3818 non-null   int64  \n",
      " 64  maximum_nights                    3818 non-null   int64  \n",
      " 65  calendar_updated                  3818 non-null   object \n",
      " 66  has_availability                  3818 non-null   object \n",
      " 67  availability_30                   3818 non-null   int64  \n",
      " 68  availability_60                   3818 non-null   int64  \n",
      " 69  availability_90                   3818 non-null   int64  \n",
      " 70  availability_365                  3818 non-null   int64  \n",
      " 71  calendar_last_scraped             3818 non-null   object \n",
      " 72  number_of_reviews                 3818 non-null   int64  \n",
      " 73  first_review                      3191 non-null   object \n",
      " 74  last_review                       3191 non-null   object \n",
      " 75  review_scores_rating              3171 non-null   float64\n",
      " 76  review_scores_accuracy            3160 non-null   float64\n",
      " 77  review_scores_cleanliness         3165 non-null   float64\n",
      " 78  review_scores_checkin             3160 non-null   float64\n",
      " 79  review_scores_communication       3167 non-null   float64\n",
      " 80  review_scores_location            3163 non-null   float64\n",
      " 81  review_scores_value               3162 non-null   float64\n",
      " 82  requires_license                  3818 non-null   object \n",
      " 83  jurisdiction_names                3818 non-null   object \n",
      " 84  instant_bookable                  3818 non-null   object \n",
      " 85  cancellation_policy               3818 non-null   object \n",
      " 86  require_guest_profile_picture     3818 non-null   object \n",
      " 87  require_guest_phone_verification  3818 non-null   object \n",
      " 88  calculated_host_listings_count    3818 non-null   int64  \n",
      " 89  reviews_per_month                 3191 non-null   float64\n",
      "dtypes: float64(15), int64(13), object(62)\n",
      "memory usage: 2.6+ MB\n"
     ]
    }
   ],
   "source": [
    "list_null_rem = df_listings.drop(columns=['license','square_feet'], axis=1)\n",
    "list_null_rem.info()"
   ]
  },
  {
   "cell_type": "markdown",
   "metadata": {},
   "source": [
    "**Next step: remove redundant columns**"
   ]
  },
  {
   "cell_type": "code",
   "execution_count": 354,
   "metadata": {},
   "outputs": [
    {
     "name": "stdout",
     "output_type": "stream",
     "text": [
      "<class 'pandas.core.frame.DataFrame'>\n",
      "RangeIndex: 3818 entries, 0 to 3817\n",
      "Data columns (total 86 columns):\n",
      " #   Column                            Non-Null Count  Dtype  \n",
      "---  ------                            --------------  -----  \n",
      " 0   id                                3818 non-null   int64  \n",
      " 1   listing_url                       3818 non-null   object \n",
      " 2   scrape_id                         3818 non-null   int64  \n",
      " 3   last_scraped                      3818 non-null   object \n",
      " 4   name                              3818 non-null   object \n",
      " 5   summary                           3641 non-null   object \n",
      " 6   space                             3249 non-null   object \n",
      " 7   description                       3818 non-null   object \n",
      " 8   experiences_offered               3818 non-null   object \n",
      " 9   neighborhood_overview             2786 non-null   object \n",
      " 10  notes                             2212 non-null   object \n",
      " 11  transit                           2884 non-null   object \n",
      " 12  thumbnail_url                     3498 non-null   object \n",
      " 13  medium_url                        3498 non-null   object \n",
      " 14  picture_url                       3818 non-null   object \n",
      " 15  xl_picture_url                    3498 non-null   object \n",
      " 16  host_id                           3818 non-null   int64  \n",
      " 17  host_url                          3818 non-null   object \n",
      " 18  host_name                         3816 non-null   object \n",
      " 19  host_since                        3816 non-null   object \n",
      " 20  host_location                     3810 non-null   object \n",
      " 21  host_about                        2959 non-null   object \n",
      " 22  host_response_time                3295 non-null   object \n",
      " 23  host_response_rate                3295 non-null   object \n",
      " 24  host_acceptance_rate              3045 non-null   object \n",
      " 25  host_is_superhost                 3816 non-null   object \n",
      " 26  host_thumbnail_url                3816 non-null   object \n",
      " 27  host_picture_url                  3816 non-null   object \n",
      " 28  host_listings_count               3816 non-null   float64\n",
      " 29  host_verifications                3818 non-null   object \n",
      " 30  host_has_profile_pic              3816 non-null   object \n",
      " 31  host_identity_verified            3816 non-null   object \n",
      " 32  street                            3818 non-null   object \n",
      " 33  neighbourhood_cleansed            3818 non-null   object \n",
      " 34  city                              3818 non-null   object \n",
      " 35  state                             3818 non-null   object \n",
      " 36  zipcode                           3811 non-null   object \n",
      " 37  market                            3818 non-null   object \n",
      " 38  smart_location                    3818 non-null   object \n",
      " 39  country_code                      3818 non-null   object \n",
      " 40  country                           3818 non-null   object \n",
      " 41  latitude                          3818 non-null   float64\n",
      " 42  longitude                         3818 non-null   float64\n",
      " 43  is_location_exact                 3818 non-null   object \n",
      " 44  property_type                     3817 non-null   object \n",
      " 45  room_type                         3818 non-null   object \n",
      " 46  accommodates                      3818 non-null   int64  \n",
      " 47  bathrooms                         3802 non-null   float64\n",
      " 48  bedrooms                          3812 non-null   float64\n",
      " 49  beds                              3817 non-null   float64\n",
      " 50  bed_type                          3818 non-null   object \n",
      " 51  amenities                         3818 non-null   object \n",
      " 52  price                             3818 non-null   object \n",
      " 53  weekly_price                      2009 non-null   object \n",
      " 54  monthly_price                     1517 non-null   object \n",
      " 55  security_deposit                  1866 non-null   object \n",
      " 56  cleaning_fee                      2788 non-null   object \n",
      " 57  guests_included                   3818 non-null   int64  \n",
      " 58  extra_people                      3818 non-null   object \n",
      " 59  minimum_nights                    3818 non-null   int64  \n",
      " 60  maximum_nights                    3818 non-null   int64  \n",
      " 61  calendar_updated                  3818 non-null   object \n",
      " 62  has_availability                  3818 non-null   object \n",
      " 63  availability_30                   3818 non-null   int64  \n",
      " 64  availability_60                   3818 non-null   int64  \n",
      " 65  availability_90                   3818 non-null   int64  \n",
      " 66  availability_365                  3818 non-null   int64  \n",
      " 67  calendar_last_scraped             3818 non-null   object \n",
      " 68  number_of_reviews                 3818 non-null   int64  \n",
      " 69  first_review                      3191 non-null   object \n",
      " 70  last_review                       3191 non-null   object \n",
      " 71  review_scores_rating              3171 non-null   float64\n",
      " 72  review_scores_accuracy            3160 non-null   float64\n",
      " 73  review_scores_cleanliness         3165 non-null   float64\n",
      " 74  review_scores_checkin             3160 non-null   float64\n",
      " 75  review_scores_communication       3167 non-null   float64\n",
      " 76  review_scores_location            3163 non-null   float64\n",
      " 77  review_scores_value               3162 non-null   float64\n",
      " 78  requires_license                  3818 non-null   object \n",
      " 79  jurisdiction_names                3818 non-null   object \n",
      " 80  instant_bookable                  3818 non-null   object \n",
      " 81  cancellation_policy               3818 non-null   object \n",
      " 82  require_guest_profile_picture     3818 non-null   object \n",
      " 83  require_guest_phone_verification  3818 non-null   object \n",
      " 84  calculated_host_listings_count    3818 non-null   int64  \n",
      " 85  reviews_per_month                 3191 non-null   float64\n",
      "dtypes: float64(14), int64(13), object(59)\n",
      "memory usage: 2.5+ MB\n"
     ]
    }
   ],
   "source": [
    "list_clean = list_null_rem.drop(columns=['host_neighbourhood','neighbourhood','neighbourhood_group_cleansed','host_total_listings_count'])\n",
    "list_clean.info()"
   ]
  },
  {
   "cell_type": "markdown",
   "metadata": {},
   "source": [
    "**Next step, we impute missing values in columns that contain numeric values.**"
   ]
  },
  {
   "cell_type": "code",
   "execution_count": 355,
   "metadata": {},
   "outputs": [
    {
     "data": {
      "text/plain": "['host_listings_count',\n 'bathrooms',\n 'bedrooms',\n 'beds',\n 'review_scores_rating',\n 'review_scores_accuracy',\n 'review_scores_cleanliness',\n 'review_scores_checkin',\n 'review_scores_communication',\n 'review_scores_location',\n 'review_scores_value',\n 'reviews_per_month']"
     },
     "execution_count": 355,
     "metadata": {},
     "output_type": "execute_result"
    }
   ],
   "source": [
    "list_clean_num = list_clean.select_dtypes(include=['float','int'])\n",
    "col_with_null = list(list_clean_num.columns[list_clean_num.isnull().sum()>0])\n",
    "col_with_null"
   ]
  },
  {
   "cell_type": "code",
   "execution_count": 356,
   "metadata": {},
   "outputs": [
    {
     "data": {
      "text/plain": "Index([], dtype='object')"
     },
     "execution_count": 356,
     "metadata": {},
     "output_type": "execute_result"
    }
   ],
   "source": [
    "# fill in the null with column mean\n",
    "# We do not want to simply remove data for certain columns when only small amount of data is missing and it would\n",
    "# be a shame to just delete the whole row or column of data.\n",
    "fill_mean = lambda col: col.fillna(col.mean())\n",
    "\n",
    "fill_list_clean_num = list_clean_num.apply(fill_mean, axis=0)\n",
    "\n",
    "# to make sure all NaN values are filled\n",
    "fill_list_clean_num.columns[fill_list_clean_num.isnull().sum()>0]\n"
   ]
  },
  {
   "cell_type": "markdown",
   "metadata": {},
   "source": [
    "**Next, let's deal with the categorical or text column.**\n",
    "\n",
    "- Convert price, weekly_price, monthly_price, security_deposit and cleaning_fee, host rates to numbers.\n",
    "- Encode columns to 0 if NaN, 1 if description or texts exist.\n",
    "- Convert t/f value to boolean (0 or 1), for example, host_verifications, host_has_profile_pic, host_identity_verified, is_location_exact, extra_people, has_availability, requires_license, instant_bookable, require_guest_profile_picture, require_guest_phone_verification."
   ]
  },
  {
   "cell_type": "code",
   "execution_count": 357,
   "metadata": {},
   "outputs": [],
   "source": [
    "# convert prices and rate to numbers\n",
    "def convert_price_to_float_2(price):\n",
    "    \"\"\"\n",
    "    Remove $ sign and convert str to float\n",
    "    Input: string price\n",
    "    Ouput: float price\n",
    "    \"\"\"\n",
    "\n",
    "    try:\n",
    "        if '$' in price:\n",
    "            price = price.replace(',','')\n",
    "            price = price[1:]\n",
    "            return float(str(price))\n",
    "    except:\n",
    "        return price\n",
    "\n",
    "def convert_percent_to_float(percent):\n",
    "    \"\"\"\n",
    "    Remove $ sign and convert str to float\n",
    "    Input: string price\n",
    "    Ouput: float price\n",
    "    \"\"\"\n",
    "\n",
    "    try:\n",
    "        if '%' in percent:\n",
    "            percent = percent.replace('%','')\n",
    "            return float(str(percent))/100\n",
    "    except:\n",
    "        return percent\n",
    "\n",
    "fill_list_clean_num['price'] = list_clean['price'].apply(lambda x: convert_price_to_float_2(x))\n",
    "fill_list_clean_num['monthly_price'] = list_clean['monthly_price'].apply(lambda x: convert_price_to_float_2(x))\n",
    "fill_list_clean_num['security_deposit'] = list_clean['security_deposit'].apply(lambda x: convert_price_to_float_2(x))\n",
    "fill_list_clean_num['cleaning_fee'] = list_clean['cleaning_fee'].apply(lambda x: convert_price_to_float_2(x))\n",
    "fill_list_clean_num['host_response_rate'] = list_clean['host_response_rate'].apply(lambda x: convert_percent_to_float(x))\n",
    "fill_list_clean_num['host_acceptance_rate'] = list_clean['host_acceptance_rate'].apply(lambda x: convert_percent_to_float(x))\n"
   ]
  },
  {
   "cell_type": "code",
   "execution_count": 358,
   "metadata": {},
   "outputs": [
    {
     "name": "stdout",
     "output_type": "stream",
     "text": [
      "id                                0.0\n",
      "scrape_id                         0.0\n",
      "host_id                           0.0\n",
      "host_listings_count               0.0\n",
      "latitude                          0.0\n",
      "longitude                         0.0\n",
      "accommodates                      0.0\n",
      "bathrooms                         0.0\n",
      "bedrooms                          0.0\n",
      "beds                              0.0\n",
      "guests_included                   0.0\n",
      "minimum_nights                    0.0\n",
      "maximum_nights                    0.0\n",
      "availability_30                   0.0\n",
      "availability_60                   0.0\n",
      "availability_90                   0.0\n",
      "availability_365                  0.0\n",
      "number_of_reviews                 0.0\n",
      "review_scores_rating              0.0\n",
      "review_scores_accuracy            0.0\n",
      "review_scores_cleanliness         0.0\n",
      "review_scores_checkin             0.0\n",
      "review_scores_communication       0.0\n",
      "review_scores_location            0.0\n",
      "review_scores_value               0.0\n",
      "calculated_host_listings_count    0.0\n",
      "reviews_per_month                 0.0\n",
      "price                             0.0\n",
      "monthly_price                     0.0\n",
      "security_deposit                  0.0\n",
      "cleaning_fee                      0.0\n",
      "host_response_rate                0.0\n",
      "host_acceptance_rate              0.0\n",
      "dtype: float64\n"
     ]
    },
    {
     "data": {
      "text/html": "<div>\n<style scoped>\n    .dataframe tbody tr th:only-of-type {\n        vertical-align: middle;\n    }\n\n    .dataframe tbody tr th {\n        vertical-align: top;\n    }\n\n    .dataframe thead th {\n        text-align: right;\n    }\n</style>\n<table border=\"1\" class=\"dataframe\">\n  <thead>\n    <tr style=\"text-align: right;\">\n      <th></th>\n      <th>id</th>\n      <th>scrape_id</th>\n      <th>host_id</th>\n      <th>host_listings_count</th>\n      <th>latitude</th>\n      <th>longitude</th>\n      <th>accommodates</th>\n      <th>bathrooms</th>\n      <th>bedrooms</th>\n      <th>beds</th>\n      <th>...</th>\n      <th>review_scores_location</th>\n      <th>review_scores_value</th>\n      <th>calculated_host_listings_count</th>\n      <th>reviews_per_month</th>\n      <th>price</th>\n      <th>monthly_price</th>\n      <th>security_deposit</th>\n      <th>cleaning_fee</th>\n      <th>host_response_rate</th>\n      <th>host_acceptance_rate</th>\n    </tr>\n  </thead>\n  <tbody>\n    <tr>\n      <th>0</th>\n      <td>241032</td>\n      <td>20160104002432</td>\n      <td>956883</td>\n      <td>3.0</td>\n      <td>47.636289</td>\n      <td>-122.371025</td>\n      <td>4</td>\n      <td>1.0</td>\n      <td>1.0</td>\n      <td>1.0</td>\n      <td>...</td>\n      <td>9.000000</td>\n      <td>10.000000</td>\n      <td>2</td>\n      <td>4.070000</td>\n      <td>85.0</td>\n      <td>2613.33619</td>\n      <td>287.610397</td>\n      <td>61.710904</td>\n      <td>0.960000</td>\n      <td>1.000000</td>\n    </tr>\n    <tr>\n      <th>1</th>\n      <td>953595</td>\n      <td>20160104002432</td>\n      <td>5177328</td>\n      <td>6.0</td>\n      <td>47.639123</td>\n      <td>-122.365666</td>\n      <td>4</td>\n      <td>1.0</td>\n      <td>1.0</td>\n      <td>1.0</td>\n      <td>...</td>\n      <td>10.000000</td>\n      <td>10.000000</td>\n      <td>6</td>\n      <td>1.480000</td>\n      <td>150.0</td>\n      <td>3000.00000</td>\n      <td>100.000000</td>\n      <td>40.000000</td>\n      <td>0.980000</td>\n      <td>1.000000</td>\n    </tr>\n    <tr>\n      <th>2</th>\n      <td>3308979</td>\n      <td>20160104002432</td>\n      <td>16708587</td>\n      <td>2.0</td>\n      <td>47.629724</td>\n      <td>-122.369483</td>\n      <td>11</td>\n      <td>4.5</td>\n      <td>5.0</td>\n      <td>7.0</td>\n      <td>...</td>\n      <td>10.000000</td>\n      <td>10.000000</td>\n      <td>2</td>\n      <td>1.150000</td>\n      <td>975.0</td>\n      <td>2613.33619</td>\n      <td>1000.000000</td>\n      <td>300.000000</td>\n      <td>0.670000</td>\n      <td>1.000000</td>\n    </tr>\n    <tr>\n      <th>3</th>\n      <td>7421966</td>\n      <td>20160104002432</td>\n      <td>9851441</td>\n      <td>1.0</td>\n      <td>47.638473</td>\n      <td>-122.369279</td>\n      <td>3</td>\n      <td>1.0</td>\n      <td>0.0</td>\n      <td>2.0</td>\n      <td>...</td>\n      <td>9.608916</td>\n      <td>9.452245</td>\n      <td>1</td>\n      <td>2.078919</td>\n      <td>100.0</td>\n      <td>2300.00000</td>\n      <td>287.610397</td>\n      <td>61.710904</td>\n      <td>0.948868</td>\n      <td>0.999672</td>\n    </tr>\n    <tr>\n      <th>4</th>\n      <td>278830</td>\n      <td>20160104002432</td>\n      <td>1452570</td>\n      <td>2.0</td>\n      <td>47.632918</td>\n      <td>-122.372471</td>\n      <td>6</td>\n      <td>2.0</td>\n      <td>3.0</td>\n      <td>3.0</td>\n      <td>...</td>\n      <td>9.000000</td>\n      <td>9.000000</td>\n      <td>1</td>\n      <td>0.890000</td>\n      <td>450.0</td>\n      <td>2613.33619</td>\n      <td>700.000000</td>\n      <td>125.000000</td>\n      <td>1.000000</td>\n      <td>0.999672</td>\n    </tr>\n  </tbody>\n</table>\n<p>5 rows × 33 columns</p>\n</div>",
      "text/plain": "        id       scrape_id   host_id  host_listings_count   latitude  \\\n0   241032  20160104002432    956883                  3.0  47.636289   \n1   953595  20160104002432   5177328                  6.0  47.639123   \n2  3308979  20160104002432  16708587                  2.0  47.629724   \n3  7421966  20160104002432   9851441                  1.0  47.638473   \n4   278830  20160104002432   1452570                  2.0  47.632918   \n\n    longitude  accommodates  bathrooms  bedrooms  beds  ...  \\\n0 -122.371025             4        1.0       1.0   1.0  ...   \n1 -122.365666             4        1.0       1.0   1.0  ...   \n2 -122.369483            11        4.5       5.0   7.0  ...   \n3 -122.369279             3        1.0       0.0   2.0  ...   \n4 -122.372471             6        2.0       3.0   3.0  ...   \n\n   review_scores_location  review_scores_value  \\\n0                9.000000            10.000000   \n1               10.000000            10.000000   \n2               10.000000            10.000000   \n3                9.608916             9.452245   \n4                9.000000             9.000000   \n\n   calculated_host_listings_count  reviews_per_month  price  monthly_price  \\\n0                               2           4.070000   85.0     2613.33619   \n1                               6           1.480000  150.0     3000.00000   \n2                               2           1.150000  975.0     2613.33619   \n3                               1           2.078919  100.0     2300.00000   \n4                               1           0.890000  450.0     2613.33619   \n\n   security_deposit  cleaning_fee  host_response_rate  host_acceptance_rate  \n0        287.610397     61.710904            0.960000              1.000000  \n1        100.000000     40.000000            0.980000              1.000000  \n2       1000.000000    300.000000            0.670000              1.000000  \n3        287.610397     61.710904            0.948868              0.999672  \n4        700.000000    125.000000            1.000000              0.999672  \n\n[5 rows x 33 columns]"
     },
     "execution_count": 358,
     "metadata": {},
     "output_type": "execute_result"
    }
   ],
   "source": [
    "# fill in new missing values\n",
    "\n",
    "fill_list_clean_num = fill_list_clean_num.apply(fill_mean, axis=0)\n",
    "print(fill_list_clean_num.isnull().mean())  # make sure no missing values\n",
    "fill_list_clean_num.head()\n"
   ]
  },
  {
   "cell_type": "code",
   "execution_count": 359,
   "metadata": {},
   "outputs": [
    {
     "name": "stdout",
     "output_type": "stream",
     "text": [
      "id                                  0.0\n",
      "scrape_id                           0.0\n",
      "host_id                             0.0\n",
      "host_listings_count                 0.0\n",
      "latitude                            0.0\n",
      "longitude                           0.0\n",
      "accommodates                        0.0\n",
      "bathrooms                           0.0\n",
      "bedrooms                            0.0\n",
      "beds                                0.0\n",
      "guests_included                     0.0\n",
      "minimum_nights                      0.0\n",
      "maximum_nights                      0.0\n",
      "availability_30                     0.0\n",
      "availability_60                     0.0\n",
      "availability_90                     0.0\n",
      "availability_365                    0.0\n",
      "number_of_reviews                   0.0\n",
      "review_scores_rating                0.0\n",
      "review_scores_accuracy              0.0\n",
      "review_scores_cleanliness           0.0\n",
      "review_scores_checkin               0.0\n",
      "review_scores_communication         0.0\n",
      "review_scores_location              0.0\n",
      "review_scores_value                 0.0\n",
      "calculated_host_listings_count      0.0\n",
      "reviews_per_month                   0.0\n",
      "price                               0.0\n",
      "monthly_price                       0.0\n",
      "security_deposit                    0.0\n",
      "cleaning_fee                        0.0\n",
      "host_response_rate                  0.0\n",
      "host_acceptance_rate                0.0\n",
      "host_verifications                  0.0\n",
      "host_has_profile_pic                0.0\n",
      "host_identity_verified              0.0\n",
      "is_location_exact                   0.0\n",
      "extra_people                        0.0\n",
      "has_availability                    0.0\n",
      "requires_license                    0.0\n",
      "instant_bookable                    0.0\n",
      "require_guest_profile_picture       0.0\n",
      "require_guest_phone_verification    0.0\n",
      "dtype: float64\n"
     ]
    },
    {
     "data": {
      "text/html": "<div>\n<style scoped>\n    .dataframe tbody tr th:only-of-type {\n        vertical-align: middle;\n    }\n\n    .dataframe tbody tr th {\n        vertical-align: top;\n    }\n\n    .dataframe thead th {\n        text-align: right;\n    }\n</style>\n<table border=\"1\" class=\"dataframe\">\n  <thead>\n    <tr style=\"text-align: right;\">\n      <th></th>\n      <th>id</th>\n      <th>scrape_id</th>\n      <th>host_id</th>\n      <th>host_listings_count</th>\n      <th>latitude</th>\n      <th>longitude</th>\n      <th>accommodates</th>\n      <th>bathrooms</th>\n      <th>bedrooms</th>\n      <th>beds</th>\n      <th>...</th>\n      <th>host_verifications</th>\n      <th>host_has_profile_pic</th>\n      <th>host_identity_verified</th>\n      <th>is_location_exact</th>\n      <th>extra_people</th>\n      <th>has_availability</th>\n      <th>requires_license</th>\n      <th>instant_bookable</th>\n      <th>require_guest_profile_picture</th>\n      <th>require_guest_phone_verification</th>\n    </tr>\n  </thead>\n  <tbody>\n    <tr>\n      <th>0</th>\n      <td>241032</td>\n      <td>20160104002432</td>\n      <td>956883</td>\n      <td>3.0</td>\n      <td>47.636289</td>\n      <td>-122.371025</td>\n      <td>4</td>\n      <td>1.0</td>\n      <td>1.0</td>\n      <td>1.0</td>\n      <td>...</td>\n      <td>0</td>\n      <td>1</td>\n      <td>1</td>\n      <td>1</td>\n      <td>0</td>\n      <td>1</td>\n      <td>0</td>\n      <td>0</td>\n      <td>0</td>\n      <td>0</td>\n    </tr>\n    <tr>\n      <th>1</th>\n      <td>953595</td>\n      <td>20160104002432</td>\n      <td>5177328</td>\n      <td>6.0</td>\n      <td>47.639123</td>\n      <td>-122.365666</td>\n      <td>4</td>\n      <td>1.0</td>\n      <td>1.0</td>\n      <td>1.0</td>\n      <td>...</td>\n      <td>0</td>\n      <td>1</td>\n      <td>1</td>\n      <td>1</td>\n      <td>0</td>\n      <td>1</td>\n      <td>0</td>\n      <td>0</td>\n      <td>1</td>\n      <td>1</td>\n    </tr>\n    <tr>\n      <th>2</th>\n      <td>3308979</td>\n      <td>20160104002432</td>\n      <td>16708587</td>\n      <td>2.0</td>\n      <td>47.629724</td>\n      <td>-122.369483</td>\n      <td>11</td>\n      <td>4.5</td>\n      <td>5.0</td>\n      <td>7.0</td>\n      <td>...</td>\n      <td>0</td>\n      <td>1</td>\n      <td>1</td>\n      <td>1</td>\n      <td>0</td>\n      <td>1</td>\n      <td>0</td>\n      <td>0</td>\n      <td>0</td>\n      <td>0</td>\n    </tr>\n    <tr>\n      <th>3</th>\n      <td>7421966</td>\n      <td>20160104002432</td>\n      <td>9851441</td>\n      <td>1.0</td>\n      <td>47.638473</td>\n      <td>-122.369279</td>\n      <td>3</td>\n      <td>1.0</td>\n      <td>0.0</td>\n      <td>2.0</td>\n      <td>...</td>\n      <td>0</td>\n      <td>1</td>\n      <td>1</td>\n      <td>1</td>\n      <td>0</td>\n      <td>1</td>\n      <td>0</td>\n      <td>0</td>\n      <td>0</td>\n      <td>0</td>\n    </tr>\n    <tr>\n      <th>4</th>\n      <td>278830</td>\n      <td>20160104002432</td>\n      <td>1452570</td>\n      <td>2.0</td>\n      <td>47.632918</td>\n      <td>-122.372471</td>\n      <td>6</td>\n      <td>2.0</td>\n      <td>3.0</td>\n      <td>3.0</td>\n      <td>...</td>\n      <td>0</td>\n      <td>1</td>\n      <td>1</td>\n      <td>1</td>\n      <td>0</td>\n      <td>1</td>\n      <td>0</td>\n      <td>0</td>\n      <td>0</td>\n      <td>0</td>\n    </tr>\n  </tbody>\n</table>\n<p>5 rows × 43 columns</p>\n</div>",
      "text/plain": "        id       scrape_id   host_id  host_listings_count   latitude  \\\n0   241032  20160104002432    956883                  3.0  47.636289   \n1   953595  20160104002432   5177328                  6.0  47.639123   \n2  3308979  20160104002432  16708587                  2.0  47.629724   \n3  7421966  20160104002432   9851441                  1.0  47.638473   \n4   278830  20160104002432   1452570                  2.0  47.632918   \n\n    longitude  accommodates  bathrooms  bedrooms  beds  ...  \\\n0 -122.371025             4        1.0       1.0   1.0  ...   \n1 -122.365666             4        1.0       1.0   1.0  ...   \n2 -122.369483            11        4.5       5.0   7.0  ...   \n3 -122.369279             3        1.0       0.0   2.0  ...   \n4 -122.372471             6        2.0       3.0   3.0  ...   \n\n   host_verifications  host_has_profile_pic  host_identity_verified  \\\n0                   0                     1                       1   \n1                   0                     1                       1   \n2                   0                     1                       1   \n3                   0                     1                       1   \n4                   0                     1                       1   \n\n   is_location_exact  extra_people  has_availability  requires_license  \\\n0                  1             0                 1                 0   \n1                  1             0                 1                 0   \n2                  1             0                 1                 0   \n3                  1             0                 1                 0   \n4                  1             0                 1                 0   \n\n   instant_bookable  require_guest_profile_picture  \\\n0                 0                              0   \n1                 0                              1   \n2                 0                              0   \n3                 0                              0   \n4                 0                              0   \n\n   require_guest_phone_verification  \n0                                 0  \n1                                 1  \n2                                 0  \n3                                 0  \n4                                 0  \n\n[5 rows x 43 columns]"
     },
     "execution_count": 359,
     "metadata": {},
     "output_type": "execute_result"
    }
   ],
   "source": [
    "# convert t/f value to boolean:\n",
    "# host_is_superhost， host_verifications, host_has_profile_pic, host_identity_verified, \n",
    "# is_location_exact, extra_people, has_availability, requires_license, \n",
    "# instant_bookable, require_guest_profile_picture, require_guest_phone_verification.\n",
    "\n",
    "df_list_clean = fill_list_clean_num\n",
    "\n",
    "list_tf = ['host_verifications', 'host_has_profile_pic', 'host_identity_verified', 'is_location_exact', 'extra_people', 'has_availability', 'requires_license', 'instant_bookable', 'require_guest_profile_picture', 'require_guest_phone_verification']\n",
    "for col in list_tf:\n",
    "    df_list_clean[col] = list_clean[col].apply(lambda x: 1 if x=='t' else 0)\n",
    "\n",
    "print(df_list_clean.isnull().mean())  # make sure no missing values\n",
    "df_list_clean.head()"
   ]
  },
  {
   "cell_type": "code",
   "execution_count": 360,
   "metadata": {},
   "outputs": [
    {
     "name": "stdout",
     "output_type": "stream",
     "text": [
      "Index([], dtype='object')\n"
     ]
    },
    {
     "data": {
      "text/html": "<div>\n<style scoped>\n    .dataframe tbody tr th:only-of-type {\n        vertical-align: middle;\n    }\n\n    .dataframe tbody tr th {\n        vertical-align: top;\n    }\n\n    .dataframe thead th {\n        text-align: right;\n    }\n</style>\n<table border=\"1\" class=\"dataframe\">\n  <thead>\n    <tr style=\"text-align: right;\">\n      <th></th>\n      <th>id</th>\n      <th>scrape_id</th>\n      <th>host_id</th>\n      <th>host_listings_count</th>\n      <th>latitude</th>\n      <th>longitude</th>\n      <th>accommodates</th>\n      <th>bathrooms</th>\n      <th>bedrooms</th>\n      <th>beds</th>\n      <th>...</th>\n      <th>medium_url</th>\n      <th>xl_picture_url</th>\n      <th>host_name</th>\n      <th>host_since</th>\n      <th>host_about</th>\n      <th>host_thumbnail_url</th>\n      <th>host_picture_url</th>\n      <th>zipcode</th>\n      <th>first_review</th>\n      <th>last_review</th>\n    </tr>\n  </thead>\n  <tbody>\n    <tr>\n      <th>0</th>\n      <td>241032</td>\n      <td>20160104002432</td>\n      <td>956883</td>\n      <td>3.0</td>\n      <td>47.636289</td>\n      <td>-122.371025</td>\n      <td>4</td>\n      <td>1.0</td>\n      <td>1.0</td>\n      <td>1.0</td>\n      <td>...</td>\n      <td>0</td>\n      <td>0</td>\n      <td>1</td>\n      <td>1</td>\n      <td>1</td>\n      <td>1</td>\n      <td>1</td>\n      <td>1</td>\n      <td>1</td>\n      <td>1</td>\n    </tr>\n    <tr>\n      <th>1</th>\n      <td>953595</td>\n      <td>20160104002432</td>\n      <td>5177328</td>\n      <td>6.0</td>\n      <td>47.639123</td>\n      <td>-122.365666</td>\n      <td>4</td>\n      <td>1.0</td>\n      <td>1.0</td>\n      <td>1.0</td>\n      <td>...</td>\n      <td>1</td>\n      <td>1</td>\n      <td>1</td>\n      <td>1</td>\n      <td>1</td>\n      <td>1</td>\n      <td>1</td>\n      <td>1</td>\n      <td>1</td>\n      <td>1</td>\n    </tr>\n    <tr>\n      <th>2</th>\n      <td>3308979</td>\n      <td>20160104002432</td>\n      <td>16708587</td>\n      <td>2.0</td>\n      <td>47.629724</td>\n      <td>-122.369483</td>\n      <td>11</td>\n      <td>4.5</td>\n      <td>5.0</td>\n      <td>7.0</td>\n      <td>...</td>\n      <td>0</td>\n      <td>0</td>\n      <td>1</td>\n      <td>1</td>\n      <td>1</td>\n      <td>1</td>\n      <td>1</td>\n      <td>1</td>\n      <td>1</td>\n      <td>1</td>\n    </tr>\n    <tr>\n      <th>3</th>\n      <td>7421966</td>\n      <td>20160104002432</td>\n      <td>9851441</td>\n      <td>1.0</td>\n      <td>47.638473</td>\n      <td>-122.369279</td>\n      <td>3</td>\n      <td>1.0</td>\n      <td>0.0</td>\n      <td>2.0</td>\n      <td>...</td>\n      <td>0</td>\n      <td>0</td>\n      <td>1</td>\n      <td>1</td>\n      <td>0</td>\n      <td>1</td>\n      <td>1</td>\n      <td>1</td>\n      <td>0</td>\n      <td>0</td>\n    </tr>\n    <tr>\n      <th>4</th>\n      <td>278830</td>\n      <td>20160104002432</td>\n      <td>1452570</td>\n      <td>2.0</td>\n      <td>47.632918</td>\n      <td>-122.372471</td>\n      <td>6</td>\n      <td>2.0</td>\n      <td>3.0</td>\n      <td>3.0</td>\n      <td>...</td>\n      <td>0</td>\n      <td>0</td>\n      <td>1</td>\n      <td>1</td>\n      <td>1</td>\n      <td>1</td>\n      <td>1</td>\n      <td>1</td>\n      <td>1</td>\n      <td>1</td>\n    </tr>\n  </tbody>\n</table>\n<p>5 rows × 59 columns</p>\n</div>",
      "text/plain": "        id       scrape_id   host_id  host_listings_count   latitude  \\\n0   241032  20160104002432    956883                  3.0  47.636289   \n1   953595  20160104002432   5177328                  6.0  47.639123   \n2  3308979  20160104002432  16708587                  2.0  47.629724   \n3  7421966  20160104002432   9851441                  1.0  47.638473   \n4   278830  20160104002432   1452570                  2.0  47.632918   \n\n    longitude  accommodates  bathrooms  bedrooms  beds  ...  medium_url  \\\n0 -122.371025             4        1.0       1.0   1.0  ...           0   \n1 -122.365666             4        1.0       1.0   1.0  ...           1   \n2 -122.369483            11        4.5       5.0   7.0  ...           0   \n3 -122.369279             3        1.0       0.0   2.0  ...           0   \n4 -122.372471             6        2.0       3.0   3.0  ...           0   \n\n   xl_picture_url  host_name  host_since  host_about  host_thumbnail_url  \\\n0               0          1           1           1                   1   \n1               1          1           1           1                   1   \n2               0          1           1           1                   1   \n3               0          1           1           0                   1   \n4               0          1           1           1                   1   \n\n   host_picture_url  zipcode  first_review  last_review  \n0                 1        1             1            1  \n1                 1        1             1            1  \n2                 1        1             1            1  \n3                 1        1             0            0  \n4                 1        1             1            1  \n\n[5 rows x 59 columns]"
     },
     "execution_count": 360,
     "metadata": {},
     "output_type": "execute_result"
    }
   ],
   "source": [
    "# Encode text columns: Since it is only 0 or 1, we do not include columns that have no missing values\n",
    "#list_encode = ['summary','space','neighborhood_overview', 'notes', 'transit',\n",
    "#       'thumbnail_url', 'medium_url', 'xl_picture_url','host_name',\n",
    "#       'host_since', 'host_about','host_thumbnail_url', 'host_picture_url',\n",
    "#       'zipcode','first_review', 'last_review',]\n",
    "\n",
    "list_encode = ['summary','space','neighborhood_overview', 'notes', 'transit',\n",
    "       'thumbnail_url', 'medium_url', 'xl_picture_url','host_name',\n",
    "       'host_since', 'host_about','host_thumbnail_url', 'host_picture_url',\n",
    "       'zipcode','first_review', 'last_review',]\n",
    "\n",
    "for col in list_encode:\n",
    "       df_list_clean[col] = list_clean[col].apply(lambda x: 0 if pd.isnull(x) else 1)\n",
    "\n",
    "print(df_list_clean.columns[df_list_clean.isnull().mean()!=0])  # make sure no missing values\n",
    "df_list_clean.head()"
   ]
  },
  {
   "cell_type": "code",
   "execution_count": 361,
   "metadata": {},
   "outputs": [
    {
     "data": {
      "text/html": "<div>\n<style scoped>\n    .dataframe tbody tr th:only-of-type {\n        vertical-align: middle;\n    }\n\n    .dataframe tbody tr th {\n        vertical-align: top;\n    }\n\n    .dataframe thead th {\n        text-align: right;\n    }\n</style>\n<table border=\"1\" class=\"dataframe\">\n  <thead>\n    <tr style=\"text-align: right;\">\n      <th></th>\n      <th>id</th>\n      <th>scrape_id</th>\n      <th>host_id</th>\n      <th>host_listings_count</th>\n      <th>latitude</th>\n      <th>longitude</th>\n      <th>accommodates</th>\n      <th>bathrooms</th>\n      <th>bedrooms</th>\n      <th>beds</th>\n      <th>...</th>\n      <th>neighbourhood_cleansed_Windermere</th>\n      <th>neighbourhood_cleansed_Yesler Terrace</th>\n      <th>cancellation_policy_moderate</th>\n      <th>cancellation_policy_strict</th>\n      <th>bed_type_Couch</th>\n      <th>bed_type_Futon</th>\n      <th>bed_type_Pull-out Sofa</th>\n      <th>bed_type_Real Bed</th>\n      <th>room_type_Private room</th>\n      <th>room_type_Shared room</th>\n    </tr>\n  </thead>\n  <tbody>\n    <tr>\n      <th>0</th>\n      <td>241032</td>\n      <td>20160104002432</td>\n      <td>956883</td>\n      <td>3.0</td>\n      <td>47.636289</td>\n      <td>-122.371025</td>\n      <td>4</td>\n      <td>1.0</td>\n      <td>1.0</td>\n      <td>1.0</td>\n      <td>...</td>\n      <td>0</td>\n      <td>0</td>\n      <td>1</td>\n      <td>0</td>\n      <td>0</td>\n      <td>0</td>\n      <td>0</td>\n      <td>1</td>\n      <td>0</td>\n      <td>0</td>\n    </tr>\n    <tr>\n      <th>1</th>\n      <td>953595</td>\n      <td>20160104002432</td>\n      <td>5177328</td>\n      <td>6.0</td>\n      <td>47.639123</td>\n      <td>-122.365666</td>\n      <td>4</td>\n      <td>1.0</td>\n      <td>1.0</td>\n      <td>1.0</td>\n      <td>...</td>\n      <td>0</td>\n      <td>0</td>\n      <td>0</td>\n      <td>1</td>\n      <td>0</td>\n      <td>0</td>\n      <td>0</td>\n      <td>1</td>\n      <td>0</td>\n      <td>0</td>\n    </tr>\n    <tr>\n      <th>2</th>\n      <td>3308979</td>\n      <td>20160104002432</td>\n      <td>16708587</td>\n      <td>2.0</td>\n      <td>47.629724</td>\n      <td>-122.369483</td>\n      <td>11</td>\n      <td>4.5</td>\n      <td>5.0</td>\n      <td>7.0</td>\n      <td>...</td>\n      <td>0</td>\n      <td>0</td>\n      <td>0</td>\n      <td>1</td>\n      <td>0</td>\n      <td>0</td>\n      <td>0</td>\n      <td>1</td>\n      <td>0</td>\n      <td>0</td>\n    </tr>\n    <tr>\n      <th>3</th>\n      <td>7421966</td>\n      <td>20160104002432</td>\n      <td>9851441</td>\n      <td>1.0</td>\n      <td>47.638473</td>\n      <td>-122.369279</td>\n      <td>3</td>\n      <td>1.0</td>\n      <td>0.0</td>\n      <td>2.0</td>\n      <td>...</td>\n      <td>0</td>\n      <td>0</td>\n      <td>0</td>\n      <td>0</td>\n      <td>0</td>\n      <td>0</td>\n      <td>0</td>\n      <td>1</td>\n      <td>0</td>\n      <td>0</td>\n    </tr>\n    <tr>\n      <th>4</th>\n      <td>278830</td>\n      <td>20160104002432</td>\n      <td>1452570</td>\n      <td>2.0</td>\n      <td>47.632918</td>\n      <td>-122.372471</td>\n      <td>6</td>\n      <td>2.0</td>\n      <td>3.0</td>\n      <td>3.0</td>\n      <td>...</td>\n      <td>0</td>\n      <td>0</td>\n      <td>0</td>\n      <td>1</td>\n      <td>0</td>\n      <td>0</td>\n      <td>0</td>\n      <td>1</td>\n      <td>0</td>\n      <td>0</td>\n    </tr>\n  </tbody>\n</table>\n<p>5 rows × 290 columns</p>\n</div>",
      "text/plain": "        id       scrape_id   host_id  host_listings_count   latitude  \\\n0   241032  20160104002432    956883                  3.0  47.636289   \n1   953595  20160104002432   5177328                  6.0  47.639123   \n2  3308979  20160104002432  16708587                  2.0  47.629724   \n3  7421966  20160104002432   9851441                  1.0  47.638473   \n4   278830  20160104002432   1452570                  2.0  47.632918   \n\n    longitude  accommodates  bathrooms  bedrooms  beds  ...  \\\n0 -122.371025             4        1.0       1.0   1.0  ...   \n1 -122.365666             4        1.0       1.0   1.0  ...   \n2 -122.369483            11        4.5       5.0   7.0  ...   \n3 -122.369279             3        1.0       0.0   2.0  ...   \n4 -122.372471             6        2.0       3.0   3.0  ...   \n\n   neighbourhood_cleansed_Windermere  neighbourhood_cleansed_Yesler Terrace  \\\n0                                  0                                      0   \n1                                  0                                      0   \n2                                  0                                      0   \n3                                  0                                      0   \n4                                  0                                      0   \n\n   cancellation_policy_moderate  cancellation_policy_strict  bed_type_Couch  \\\n0                             1                           0               0   \n1                             0                           1               0   \n2                             0                           1               0   \n3                             0                           0               0   \n4                             0                           1               0   \n\n   bed_type_Futon  bed_type_Pull-out Sofa  bed_type_Real Bed  \\\n0               0                       0                  1   \n1               0                       0                  1   \n2               0                       0                  1   \n3               0                       0                  1   \n4               0                       0                  1   \n\n   room_type_Private room  room_type_Shared room  \n0                       0                      0  \n1                       0                      0  \n2                       0                      0  \n3                       0                      0  \n4                       0                      0  \n\n[5 rows x 290 columns]"
     },
     "execution_count": 361,
     "metadata": {},
     "output_type": "execute_result"
    }
   ],
   "source": [
    "# Handle categorical columns such as 'host_response_time','property_type','host_location',\n",
    "# 'neighbourhood_cleansed','cancellation_policy','bed_type', 'room_type'\n",
    "\n",
    "def create_dummy_df(df, cat_cols, dummy_na):\n",
    "    '''\n",
    "    INPUT:\n",
    "    df - pandas dataframe with categorical variables you want to dummy\n",
    "    cat_cols - list of strings that are associated with names of the categorical columns\n",
    "    dummy_na - Bool holding whether you want to dummy NA vals of categorical columns or not\n",
    "    \n",
    "    OUTPUT:\n",
    "    df - a new dataframe that has the following characteristics:\n",
    "            1. contains all columns that were not specified as categorical\n",
    "            2. removes all the original columns in cat_cols\n",
    "            3. dummy columns for each of the categorical columns in cat_cols\n",
    "            4. if dummy_na is True - it also contains dummy columns for the NaN values\n",
    "            5. Use a prefix of the column name with an underscore (_) for separating \n",
    "    '''\n",
    "    for col in  cat_cols:\n",
    "        try:\n",
    "            # for each cat add dummy var, drop original column\n",
    "            df = pd.concat([df.drop(col, axis=1), pd.get_dummies(df[col], prefix=col, prefix_sep='_', drop_first=True, dummy_na=dummy_na)], axis=1)\n",
    "        except:\n",
    "            continue\n",
    "    return df\n",
    "    \n",
    "\n",
    "cat_cols_lst = ['host_response_time','property_type','host_location','neighbourhood_cleansed','cancellation_policy','bed_type', 'room_type']\n",
    "\n",
    "for col in cat_cols_lst:\n",
    "    df_list_clean[col] = list_clean[col]\n",
    "\n",
    "\n",
    "\n",
    "df_new = create_dummy_df(df_list_clean, cat_cols_lst, dummy_na=False) #Use your newly created function\n",
    "\n",
    "# Show a header of df_new to check\n",
    "df_new.head()"
   ]
  },
  {
   "cell_type": "code",
   "execution_count": 362,
   "metadata": {},
   "outputs": [
    {
     "data": {
      "text/html": "<div>\n<style scoped>\n    .dataframe tbody tr th:only-of-type {\n        vertical-align: middle;\n    }\n\n    .dataframe tbody tr th {\n        vertical-align: top;\n    }\n\n    .dataframe thead th {\n        text-align: right;\n    }\n</style>\n<table border=\"1\" class=\"dataframe\">\n  <thead>\n    <tr style=\"text-align: right;\">\n      <th></th>\n      <th>host_listings_count</th>\n      <th>accommodates</th>\n      <th>bathrooms</th>\n      <th>bedrooms</th>\n      <th>beds</th>\n      <th>guests_included</th>\n      <th>minimum_nights</th>\n      <th>maximum_nights</th>\n      <th>availability_30</th>\n      <th>availability_60</th>\n      <th>...</th>\n      <th>neighbourhood_cleansed_Windermere</th>\n      <th>neighbourhood_cleansed_Yesler Terrace</th>\n      <th>cancellation_policy_moderate</th>\n      <th>cancellation_policy_strict</th>\n      <th>bed_type_Couch</th>\n      <th>bed_type_Futon</th>\n      <th>bed_type_Pull-out Sofa</th>\n      <th>bed_type_Real Bed</th>\n      <th>room_type_Private room</th>\n      <th>room_type_Shared room</th>\n    </tr>\n  </thead>\n  <tbody>\n    <tr>\n      <th>0</th>\n      <td>3.0</td>\n      <td>4</td>\n      <td>1.0</td>\n      <td>1.0</td>\n      <td>1.0</td>\n      <td>2</td>\n      <td>1</td>\n      <td>365</td>\n      <td>14</td>\n      <td>41</td>\n      <td>...</td>\n      <td>0</td>\n      <td>0</td>\n      <td>1</td>\n      <td>0</td>\n      <td>0</td>\n      <td>0</td>\n      <td>0</td>\n      <td>1</td>\n      <td>0</td>\n      <td>0</td>\n    </tr>\n    <tr>\n      <th>1</th>\n      <td>6.0</td>\n      <td>4</td>\n      <td>1.0</td>\n      <td>1.0</td>\n      <td>1.0</td>\n      <td>1</td>\n      <td>2</td>\n      <td>90</td>\n      <td>13</td>\n      <td>13</td>\n      <td>...</td>\n      <td>0</td>\n      <td>0</td>\n      <td>0</td>\n      <td>1</td>\n      <td>0</td>\n      <td>0</td>\n      <td>0</td>\n      <td>1</td>\n      <td>0</td>\n      <td>0</td>\n    </tr>\n    <tr>\n      <th>2</th>\n      <td>2.0</td>\n      <td>11</td>\n      <td>4.5</td>\n      <td>5.0</td>\n      <td>7.0</td>\n      <td>10</td>\n      <td>4</td>\n      <td>30</td>\n      <td>1</td>\n      <td>6</td>\n      <td>...</td>\n      <td>0</td>\n      <td>0</td>\n      <td>0</td>\n      <td>1</td>\n      <td>0</td>\n      <td>0</td>\n      <td>0</td>\n      <td>1</td>\n      <td>0</td>\n      <td>0</td>\n    </tr>\n    <tr>\n      <th>3</th>\n      <td>1.0</td>\n      <td>3</td>\n      <td>1.0</td>\n      <td>0.0</td>\n      <td>2.0</td>\n      <td>1</td>\n      <td>1</td>\n      <td>1125</td>\n      <td>0</td>\n      <td>0</td>\n      <td>...</td>\n      <td>0</td>\n      <td>0</td>\n      <td>0</td>\n      <td>0</td>\n      <td>0</td>\n      <td>0</td>\n      <td>0</td>\n      <td>1</td>\n      <td>0</td>\n      <td>0</td>\n    </tr>\n    <tr>\n      <th>4</th>\n      <td>2.0</td>\n      <td>6</td>\n      <td>2.0</td>\n      <td>3.0</td>\n      <td>3.0</td>\n      <td>6</td>\n      <td>1</td>\n      <td>1125</td>\n      <td>30</td>\n      <td>60</td>\n      <td>...</td>\n      <td>0</td>\n      <td>0</td>\n      <td>0</td>\n      <td>1</td>\n      <td>0</td>\n      <td>0</td>\n      <td>0</td>\n      <td>1</td>\n      <td>0</td>\n      <td>0</td>\n    </tr>\n  </tbody>\n</table>\n<p>5 rows × 285 columns</p>\n</div>",
      "text/plain": "   host_listings_count  accommodates  bathrooms  bedrooms  beds  \\\n0                  3.0             4        1.0       1.0   1.0   \n1                  6.0             4        1.0       1.0   1.0   \n2                  2.0            11        4.5       5.0   7.0   \n3                  1.0             3        1.0       0.0   2.0   \n4                  2.0             6        2.0       3.0   3.0   \n\n   guests_included  minimum_nights  maximum_nights  availability_30  \\\n0                2               1             365               14   \n1                1               2              90               13   \n2               10               4              30                1   \n3                1               1            1125                0   \n4                6               1            1125               30   \n\n   availability_60  ...  neighbourhood_cleansed_Windermere  \\\n0               41  ...                                  0   \n1               13  ...                                  0   \n2                6  ...                                  0   \n3                0  ...                                  0   \n4               60  ...                                  0   \n\n   neighbourhood_cleansed_Yesler Terrace  cancellation_policy_moderate  \\\n0                                      0                             1   \n1                                      0                             0   \n2                                      0                             0   \n3                                      0                             0   \n4                                      0                             0   \n\n   cancellation_policy_strict  bed_type_Couch  bed_type_Futon  \\\n0                           0               0               0   \n1                           1               0               0   \n2                           1               0               0   \n3                           0               0               0   \n4                           1               0               0   \n\n   bed_type_Pull-out Sofa  bed_type_Real Bed  room_type_Private room  \\\n0                       0                  1                       0   \n1                       0                  1                       0   \n2                       0                  1                       0   \n3                       0                  1                       0   \n4                       0                  1                       0   \n\n   room_type_Shared room  \n0                      0  \n1                      0  \n2                      0  \n3                      0  \n4                      0  \n\n[5 rows x 285 columns]"
     },
     "execution_count": 362,
     "metadata": {},
     "output_type": "execute_result"
    }
   ],
   "source": [
    "# Since some features such as id, scrape id, host id, lattitude and longtitude do not matter,\n",
    "# we'd like to remove these columns\n",
    "\n",
    "df_new = df_new.drop(columns=['id','scrape_id','host_id','latitude','longitude'],axis=1)\n",
    "df_new.head()"
   ]
  },
  {
   "cell_type": "markdown",
   "metadata": {},
   "source": [
    "## **Data Modeling**\n",
    "\n",
    "- Find X (features to fit) and y (feature to predict)\n",
    "- Reuse what was provided in the course to find the optimal lm mode and avoid overfitting\n",
    "- Look at the size of the coefficients in the model as an indication of the impact of each variable on the salary.  The larger the coefficient, the larger the expected impact on salary.  "
   ]
  },
  {
   "cell_type": "code",
   "execution_count": 294,
   "metadata": {},
   "outputs": [],
   "source": [
    "from sklearn.linear_model import LinearRegression\n",
    "from sklearn.model_selection import train_test_split\n",
    "from sklearn.metrics import r2_score, mean_squared_error"
   ]
  },
  {
   "cell_type": "code",
   "execution_count": 363,
   "metadata": {},
   "outputs": [],
   "source": [
    "# Aa a first step, we want to define X and y\n",
    "y = df_new['price']\n",
    "X = df_new.drop(columns=['price'],axis=1)\n"
   ]
  },
  {
   "cell_type": "code",
   "execution_count": 364,
   "metadata": {},
   "outputs": [],
   "source": [
    "# define the function to find the optimal lm model by finding the cutoff values\n",
    "def find_optimal_lm_mod(X, y, cutoffs, test_size = .30, random_state=42, plot=True):\n",
    "    '''\n",
    "    INPUT\n",
    "    X - pandas dataframe, X matrix\n",
    "    y - pandas dataframe, response variable\n",
    "    cutoffs - list of ints, cutoff for number of non-zero values in dummy categorical vars\n",
    "    test_size - float between 0 and 1, default 0.3, determines the proportion of data as test data\n",
    "    random_state - int, default 42, controls random state for train_test_split\n",
    "    plot - boolean, default 0.3, True to plot result\n",
    "\n",
    "    OUTPUT\n",
    "    r2_scores_test - list of floats of r2 scores on the test data\n",
    "    r2_scores_train - list of floats of r2 scores on the train data\n",
    "    lm_model - model object from sklearn\n",
    "    X_train, X_test, y_train, y_test - output from sklearn train test split used for optimal model\n",
    "    '''\n",
    "    r2_scores_test, r2_scores_train, num_feats, results = [], [], [], dict()\n",
    "    for cutoff in cutoffs:\n",
    "\n",
    "        #reduce X matrix\n",
    "        reduce_X = X.iloc[:, np.where((X.sum() > cutoff) == True)[0]]\n",
    "        num_feats.append(reduce_X.shape[1])\n",
    "\n",
    "        #split the data into train and test\n",
    "        X_train, X_test, y_train, y_test = train_test_split(reduce_X, y, test_size = test_size, random_state=random_state)\n",
    "\n",
    "        #fit the model and obtain pred response\n",
    "        lm_model = LinearRegression(normalize=True)\n",
    "        lm_model.fit(X_train, y_train)\n",
    "        y_test_preds = lm_model.predict(X_test)\n",
    "        y_train_preds = lm_model.predict(X_train)\n",
    "\n",
    "        #append the r2 value from the test set\n",
    "        r2_scores_test.append(r2_score(y_test, y_test_preds))\n",
    "        r2_scores_train.append(r2_score(y_train, y_train_preds))\n",
    "        results[str(cutoff)] = r2_score(y_test, y_test_preds)\n",
    "\n",
    "    if plot:\n",
    "        plt.plot(num_feats, r2_scores_test, label=\"Test\", alpha=.5)\n",
    "        plt.plot(num_feats, r2_scores_train, label=\"Train\", alpha=.5)\n",
    "        plt.xlabel('Number of Features')\n",
    "        plt.ylabel('Rsquared')\n",
    "        plt.title('Rsquared by Number of Features')\n",
    "        plt.legend(loc=1)\n",
    "        plt.show()\n",
    "\n",
    "    best_cutoff = max(results, key=results.get)\n",
    "\n",
    "    #reduce X matrix\n",
    "    reduce_X = X.iloc[:, np.where((X.sum() > int(best_cutoff)) == True)[0]]\n",
    "    num_feats.append(reduce_X.shape[1])\n",
    "\n",
    "    #split the data into train and test\n",
    "    X_train, X_test, y_train, y_test = train_test_split(reduce_X, y, test_size = test_size, random_state=random_state)\n",
    "\n",
    "    #fit the model\n",
    "    lm_model = LinearRegression(normalize=True)\n",
    "    lm_model.fit(X_train, y_train)\n",
    "\n",
    "    return r2_scores_test, r2_scores_train, lm_model, X_train, X_test, y_train, y_test"
   ]
  },
  {
   "cell_type": "code",
   "execution_count": 365,
   "metadata": {},
   "outputs": [
    {
     "data": {
      "image/png": "[encoded data removed]",
      "text/plain": "<Figure size 432x288 with 1 Axes>"
     },
     "metadata": {
      "needs_background": "light"
     },
     "output_type": "display_data"
    }
   ],
   "source": [
    "#cutoffs here pertains to the number of missing values allowed in the used columns.\n",
    "#Therefore, lower values for the cutoff provides more predictors in the model.\n",
    "#Fit the models\n",
    "cutoffs = [50000, 25000, 10000, 9000, 8000, 5000, 4000, 3900, 3860, 3840, 3830, 3820]\n",
    "\n",
    "r2_scores_test, r2_scores_train, lm_model, X_train, X_test, y_train, y_test = find_optimal_lm_mod(X, y, cutoffs)"
   ]
  },
  {
   "cell_type": "code",
   "execution_count": 367,
   "metadata": {},
   "outputs": [
    {
     "name": "stdout",
     "output_type": "stream",
     "text": [
      "25\n",
      "0.5871787930611788\n",
      "0.5778861443443357\n"
     ]
    }
   ],
   "source": [
    "print(X_train.shape[1]) #Number of columns\n",
    "print(r2_scores_test[np.argmax(r2_scores_test)]) # The model we should implement test_r2\n",
    "print(r2_scores_train[np.argmax(r2_scores_test)]) # The model we should implement train_r2"
   ]
  },
  {
   "cell_type": "code",
   "execution_count": 368,
   "metadata": {},
   "outputs": [
    {
     "data": {
      "text/html": "<div>\n<style scoped>\n    .dataframe tbody tr th:only-of-type {\n        vertical-align: middle;\n    }\n\n    .dataframe tbody tr th {\n        vertical-align: top;\n    }\n\n    .dataframe thead th {\n        text-align: right;\n    }\n</style>\n<table border=\"1\" class=\"dataframe\">\n  <thead>\n    <tr style=\"text-align: right;\">\n      <th></th>\n      <th>est_int</th>\n      <th>coefs</th>\n      <th>abs_coefs</th>\n    </tr>\n  </thead>\n  <tbody>\n    <tr>\n      <th>2</th>\n      <td>bathrooms</td>\n      <td>18.477399</td>\n      <td>18.477399</td>\n    </tr>\n    <tr>\n      <th>1</th>\n      <td>accommodates</td>\n      <td>12.961490</td>\n      <td>12.961490</td>\n    </tr>\n    <tr>\n      <th>3</th>\n      <td>bedrooms</td>\n      <td>12.637531</td>\n      <td>12.637531</td>\n    </tr>\n    <tr>\n      <th>19</th>\n      <td>review_scores_value</td>\n      <td>-11.536554</td>\n      <td>11.536554</td>\n    </tr>\n    <tr>\n      <th>18</th>\n      <td>review_scores_location</td>\n      <td>10.114406</td>\n      <td>10.114406</td>\n    </tr>\n    <tr>\n      <th>16</th>\n      <td>review_scores_checkin</td>\n      <td>-5.429414</td>\n      <td>5.429414</td>\n    </tr>\n    <tr>\n      <th>14</th>\n      <td>review_scores_accuracy</td>\n      <td>3.957188</td>\n      <td>3.957188</td>\n    </tr>\n    <tr>\n      <th>17</th>\n      <td>review_scores_communication</td>\n      <td>3.689397</td>\n      <td>3.689397</td>\n    </tr>\n    <tr>\n      <th>21</th>\n      <td>reviews_per_month</td>\n      <td>-3.639158</td>\n      <td>3.639158</td>\n    </tr>\n    <tr>\n      <th>4</th>\n      <td>beds</td>\n      <td>-2.522137</td>\n      <td>2.522137</td>\n    </tr>\n  </tbody>\n</table>\n</div>",
      "text/plain": "                        est_int      coefs  abs_coefs\n2                     bathrooms  18.477399  18.477399\n1                  accommodates  12.961490  12.961490\n3                      bedrooms  12.637531  12.637531\n19          review_scores_value -11.536554  11.536554\n18       review_scores_location  10.114406  10.114406\n16        review_scores_checkin  -5.429414   5.429414\n14       review_scores_accuracy   3.957188   3.957188\n17  review_scores_communication   3.689397   3.689397\n21            reviews_per_month  -3.639158   3.639158\n4                          beds  -2.522137   2.522137"
     },
     "execution_count": 368,
     "metadata": {},
     "output_type": "execute_result"
    }
   ],
   "source": [
    "#check the contribution of each feature\n",
    "\n",
    "def coef_weights(coefficients, X_train):\n",
    "    '''\n",
    "    INPUT:\n",
    "    coefficients - the coefficients of the linear model \n",
    "    X_train - the training data, so the column names can be used\n",
    "    OUTPUT:\n",
    "    coefs_df - a dataframe holding the coefficient, estimate, and abs(estimate)\n",
    "    \n",
    "    Provides a dataframe that can be used to understand the most influential coefficients\n",
    "    in a linear model by providing the coefficient estimates along with the name of the \n",
    "    variable attached to the coefficient.\n",
    "    '''\n",
    "    coefs_df = pd.DataFrame()\n",
    "    coefs_df['est_int'] = X_train.columns\n",
    "    coefs_df['coefs'] = lm_model.coef_\n",
    "    coefs_df['abs_coefs'] = np.abs(lm_model.coef_)\n",
    "    coefs_df = coefs_df.sort_values('abs_coefs', ascending=False)\n",
    "    return coefs_df\n",
    "\n",
    "#Use the function\n",
    "coef_df = coef_weights(lm_model.coef_, X_train)\n",
    "\n",
    "#A quick look at the top results\n",
    "coef_df.head(10)"
   ]
  },
  {
   "cell_type": "code",
   "execution_count": 405,
   "metadata": {},
   "outputs": [
    {
     "data": {
      "text/plain": "Text(0, 0.5, 'Coefficient')"
     },
     "execution_count": 405,
     "metadata": {},
     "output_type": "execute_result"
    },
    {
     "data": {
      "image/png": "[encoded data removed]",
      "text/plain": "<Figure size 720x360 with 1 Axes>"
     },
     "metadata": {
      "needs_background": "light"
     },
     "output_type": "display_data"
    }
   ],
   "source": [
    "coef_df_plt = coef_df.head(10)['coefs']\n",
    "coef_df_plt.plot(kind='bar', figsize= [10,5], fontsize =12, legend=False);\n",
    "plt.title('Weight of contribution of each feature')\n",
    "plt.xlabel('Feature')\n",
    "plt.ylabel('Coefficient')"
   ]
  },
  {
   "cell_type": "markdown",
   "metadata": {},
   "source": [
    "From the linear regression modeling above we can see that the listing price is affected by:\n",
    "\n",
    "- Number of bathrooms: listed accomodation with higher price has more bathrooms. \n",
    "- Number of people that can be accommodated: More people the listed place can accomodates, the higher the price is.\n",
    "- Number of bedrooms: Again, more bedrooms increase the price.\n",
    "- Review_scores_value: It is strange that the higher score the lower the price is.\n",
    "- Review_scores_location: the higher the value is the higher the price."
   ]
  },
  {
   "cell_type": "markdown",
   "metadata": {},
   "source": [
    "## **Data Evaluation**\n",
    "\n",
    "In this notebook, I analyzed three datasets from Seattle Airbnb listings. In conclusion, I was able to answer the following three questions:\n",
    "\n",
    "**1) What is the most expensive month to book accommodation in Seattle?**\n",
    "\n",
    "    It is generally the most expensive to book accomodation through Airbnb during the summer time, in particular, August, July and June. It is cheapest to book in winter.\n",
    "\n",
    "**2) Does availability contribute to the price?**\n",
    "\n",
    "    In certain period of time, namely after 2016/07, the low availability contributes to the higher price.\n",
    "\n",
    "**3) What contributes to a house listed with high price?**\n",
    "\n",
    "    Number of bathrooms, number of people that can be accommodated, number of bedrooms, review_scores_value, review_scores_location."
   ]
  },
  {
   "cell_type": "code",
   "execution_count": null,
   "metadata": {},
   "outputs": [],
   "source": []
  }
 ],
 "metadata": {
  "kernelspec": {
   "display_name": "Python 3.7.6 64-bit ('base': conda)",
   "name": "python376jvsc74a57bd0c162506b0748e85b34c15f365b707bdef8b569171f44249d7f31fe7d38625c5b"
  },
  "language_info": {
   "codemirror_mode": {
    "name": "ipython",
    "version": 3
   },
   "file_extension": ".py",
   "mimetype": "text/x-python",
   "name": "python",
   "nbconvert_exporter": "python",
   "pygments_lexer": "ipython3",
   "version": "3.7.6"
  },
  "orig_nbformat": 3
 },
 "nbformat": 4,
 "nbformat_minor": 2
}